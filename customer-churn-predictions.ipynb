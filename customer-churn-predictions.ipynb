{
 "cells": [
  {
   "cell_type": "code",
   "execution_count": 1,
   "id": "c4369da9",
   "metadata": {
    "_cell_guid": "b1076dfc-b9ad-4769-8c92-a6c4dae69d19",
    "_uuid": "8f2839f25d086af736a60e9eeb907d3b93b6e0e5",
    "execution": {
     "iopub.execute_input": "2023-10-24T13:54:35.309077Z",
     "iopub.status.busy": "2023-10-24T13:54:35.308182Z",
     "iopub.status.idle": "2023-10-24T13:54:35.739806Z",
     "shell.execute_reply": "2023-10-24T13:54:35.738741Z"
    },
    "papermill": {
     "duration": 0.455706,
     "end_time": "2023-10-24T13:54:35.742422",
     "exception": false,
     "start_time": "2023-10-24T13:54:35.286716",
     "status": "completed"
    },
    "tags": []
   },
   "outputs": [
    {
     "name": "stdout",
     "output_type": "stream",
     "text": [
      "/kaggle/input/bank-customer-churn-prediction/Churn_Modelling.csv\n"
     ]
    }
   ],
   "source": [
    "# This Python 3 environment comes with many helpful analytics libraries installed\n",
    "# It is defined by the kaggle/python Docker image: https://github.com/kaggle/docker-python\n",
    "# For example, here's several helpful packages to load\n",
    "\n",
    "import numpy as np # linear algebra\n",
    "import pandas as pd # data processing, CSV file I/O (e.g. pd.read_csv)\n",
    "\n",
    "# Input data files are available in the read-only \"../input/\" directory\n",
    "# For example, running this (by clicking run or pressing Shift+Enter) will list all files under the input directory\n",
    "\n",
    "import os\n",
    "for dirname, _, filenames in os.walk('/kaggle/input'):\n",
    "    for filename in filenames:\n",
    "        print(os.path.join(dirname, filename))\n",
    "\n",
    "# You can write up to 20GB to the current directory (/kaggle/working/) that gets preserved as output when you create a version using \"Save & Run All\" \n",
    "# You can also write temporary files to /kaggle/temp/, but they won't be saved outside of the current session"
   ]
  },
  {
   "cell_type": "markdown",
   "id": "0b62dfb9",
   "metadata": {
    "papermill": {
     "duration": 0.015725,
     "end_time": "2023-10-24T13:54:35.774206",
     "exception": false,
     "start_time": "2023-10-24T13:54:35.758481",
     "status": "completed"
    },
    "tags": []
   },
   "source": [
    "# Customer Churn Prediction\n",
    "<a href=\"https://imgbb.com/\"><img src=\"https://i.ibb.co/YtnbTpw/Customer-Churn.png\" alt=\"Customer-Churn\" border=\"0\"></a>\n",
    "* This dataset contains the customer information like customer ID, credit score and various features from the U.S.Bank and going to predict Whether customer will be loyal or leave the bank\n",
    "\n",
    "## Steps to Follow in this Machine Learning Training\n",
    "* First will go through the dataset to understand what are the necessary features in the credit card Dataset information\n",
    "* And then will do some **Exploratory Data Analysis** to understand the dataset and **Visualize** the data\n",
    "* **Data Cleaning and LabelEncoding** to transform the Data into useable format to use with machine learning algorithms.\n",
    "* After that, Using the classifiers **Logistic Regression** and **Random Forest** to classify transactions as fraudulent or legitimate.\n",
    " \n",
    " <br> <font color='Blue'> Content: \n",
    "    * [Loading Train Data and Test Data](#1)\n",
    "    * [Data Visualization](#2)\n",
    "    * [Data Cleansing and Prepping](#3)\n",
    "    * [Label Encoding](#4)\n",
    "    * [Logistic Regression & Ensemble Method Classifier to Train the Model](#5)"
   ]
  },
  {
   "cell_type": "markdown",
   "id": "b615a8c3",
   "metadata": {
    "papermill": {
     "duration": 0.015315,
     "end_time": "2023-10-24T13:54:35.805035",
     "exception": false,
     "start_time": "2023-10-24T13:54:35.789720",
     "status": "completed"
    },
    "tags": []
   },
   "source": [
    "<a id=\"1\"></a> <br>\n",
    "## Loading Train Data and Test Data"
   ]
  },
  {
   "cell_type": "code",
   "execution_count": 2,
   "id": "da59f8d9",
   "metadata": {
    "execution": {
     "iopub.execute_input": "2023-10-24T13:54:35.837719Z",
     "iopub.status.busy": "2023-10-24T13:54:35.837184Z",
     "iopub.status.idle": "2023-10-24T13:54:35.900570Z",
     "shell.execute_reply": "2023-10-24T13:54:35.899585Z"
    },
    "papermill": {
     "duration": 0.08254,
     "end_time": "2023-10-24T13:54:35.902997",
     "exception": false,
     "start_time": "2023-10-24T13:54:35.820457",
     "status": "completed"
    },
    "tags": []
   },
   "outputs": [],
   "source": [
    "train_data = pd.read_csv('/kaggle/input/bank-customer-churn-prediction/Churn_Modelling.csv')"
   ]
  },
  {
   "cell_type": "code",
   "execution_count": 3,
   "id": "a177a30f",
   "metadata": {
    "execution": {
     "iopub.execute_input": "2023-10-24T13:54:35.936469Z",
     "iopub.status.busy": "2023-10-24T13:54:35.935801Z",
     "iopub.status.idle": "2023-10-24T13:54:35.942243Z",
     "shell.execute_reply": "2023-10-24T13:54:35.941528Z"
    },
    "papermill": {
     "duration": 0.025527,
     "end_time": "2023-10-24T13:54:35.944195",
     "exception": false,
     "start_time": "2023-10-24T13:54:35.918668",
     "status": "completed"
    },
    "tags": []
   },
   "outputs": [
    {
     "data": {
      "text/plain": [
       "(10000, 14)"
      ]
     },
     "execution_count": 3,
     "metadata": {},
     "output_type": "execute_result"
    }
   ],
   "source": [
    "train_data.shape"
   ]
  },
  {
   "cell_type": "code",
   "execution_count": 4,
   "id": "72688d2b",
   "metadata": {
    "execution": {
     "iopub.execute_input": "2023-10-24T13:54:35.978067Z",
     "iopub.status.busy": "2023-10-24T13:54:35.977685Z",
     "iopub.status.idle": "2023-10-24T13:54:36.020084Z",
     "shell.execute_reply": "2023-10-24T13:54:36.018933Z"
    },
    "papermill": {
     "duration": 0.062646,
     "end_time": "2023-10-24T13:54:36.022490",
     "exception": false,
     "start_time": "2023-10-24T13:54:35.959844",
     "status": "completed"
    },
    "tags": []
   },
   "outputs": [
    {
     "data": {
      "text/html": [
       "<div>\n",
       "<style scoped>\n",
       "    .dataframe tbody tr th:only-of-type {\n",
       "        vertical-align: middle;\n",
       "    }\n",
       "\n",
       "    .dataframe tbody tr th {\n",
       "        vertical-align: top;\n",
       "    }\n",
       "\n",
       "    .dataframe thead th {\n",
       "        text-align: right;\n",
       "    }\n",
       "</style>\n",
       "<table border=\"1\" class=\"dataframe\">\n",
       "  <thead>\n",
       "    <tr style=\"text-align: right;\">\n",
       "      <th></th>\n",
       "      <th>RowNumber</th>\n",
       "      <th>CustomerId</th>\n",
       "      <th>Surname</th>\n",
       "      <th>CreditScore</th>\n",
       "      <th>Geography</th>\n",
       "      <th>Gender</th>\n",
       "      <th>Age</th>\n",
       "      <th>Tenure</th>\n",
       "      <th>Balance</th>\n",
       "      <th>NumOfProducts</th>\n",
       "      <th>HasCrCard</th>\n",
       "      <th>IsActiveMember</th>\n",
       "      <th>EstimatedSalary</th>\n",
       "      <th>Exited</th>\n",
       "    </tr>\n",
       "  </thead>\n",
       "  <tbody>\n",
       "    <tr>\n",
       "      <th>0</th>\n",
       "      <td>1</td>\n",
       "      <td>15634602</td>\n",
       "      <td>Hargrave</td>\n",
       "      <td>619</td>\n",
       "      <td>France</td>\n",
       "      <td>Female</td>\n",
       "      <td>42</td>\n",
       "      <td>2</td>\n",
       "      <td>0.00</td>\n",
       "      <td>1</td>\n",
       "      <td>1</td>\n",
       "      <td>1</td>\n",
       "      <td>101348.88</td>\n",
       "      <td>1</td>\n",
       "    </tr>\n",
       "    <tr>\n",
       "      <th>1</th>\n",
       "      <td>2</td>\n",
       "      <td>15647311</td>\n",
       "      <td>Hill</td>\n",
       "      <td>608</td>\n",
       "      <td>Spain</td>\n",
       "      <td>Female</td>\n",
       "      <td>41</td>\n",
       "      <td>1</td>\n",
       "      <td>83807.86</td>\n",
       "      <td>1</td>\n",
       "      <td>0</td>\n",
       "      <td>1</td>\n",
       "      <td>112542.58</td>\n",
       "      <td>0</td>\n",
       "    </tr>\n",
       "    <tr>\n",
       "      <th>2</th>\n",
       "      <td>3</td>\n",
       "      <td>15619304</td>\n",
       "      <td>Onio</td>\n",
       "      <td>502</td>\n",
       "      <td>France</td>\n",
       "      <td>Female</td>\n",
       "      <td>42</td>\n",
       "      <td>8</td>\n",
       "      <td>159660.80</td>\n",
       "      <td>3</td>\n",
       "      <td>1</td>\n",
       "      <td>0</td>\n",
       "      <td>113931.57</td>\n",
       "      <td>1</td>\n",
       "    </tr>\n",
       "    <tr>\n",
       "      <th>3</th>\n",
       "      <td>4</td>\n",
       "      <td>15701354</td>\n",
       "      <td>Boni</td>\n",
       "      <td>699</td>\n",
       "      <td>France</td>\n",
       "      <td>Female</td>\n",
       "      <td>39</td>\n",
       "      <td>1</td>\n",
       "      <td>0.00</td>\n",
       "      <td>2</td>\n",
       "      <td>0</td>\n",
       "      <td>0</td>\n",
       "      <td>93826.63</td>\n",
       "      <td>0</td>\n",
       "    </tr>\n",
       "    <tr>\n",
       "      <th>4</th>\n",
       "      <td>5</td>\n",
       "      <td>15737888</td>\n",
       "      <td>Mitchell</td>\n",
       "      <td>850</td>\n",
       "      <td>Spain</td>\n",
       "      <td>Female</td>\n",
       "      <td>43</td>\n",
       "      <td>2</td>\n",
       "      <td>125510.82</td>\n",
       "      <td>1</td>\n",
       "      <td>1</td>\n",
       "      <td>1</td>\n",
       "      <td>79084.10</td>\n",
       "      <td>0</td>\n",
       "    </tr>\n",
       "    <tr>\n",
       "      <th>...</th>\n",
       "      <td>...</td>\n",
       "      <td>...</td>\n",
       "      <td>...</td>\n",
       "      <td>...</td>\n",
       "      <td>...</td>\n",
       "      <td>...</td>\n",
       "      <td>...</td>\n",
       "      <td>...</td>\n",
       "      <td>...</td>\n",
       "      <td>...</td>\n",
       "      <td>...</td>\n",
       "      <td>...</td>\n",
       "      <td>...</td>\n",
       "      <td>...</td>\n",
       "    </tr>\n",
       "    <tr>\n",
       "      <th>9995</th>\n",
       "      <td>9996</td>\n",
       "      <td>15606229</td>\n",
       "      <td>Obijiaku</td>\n",
       "      <td>771</td>\n",
       "      <td>France</td>\n",
       "      <td>Male</td>\n",
       "      <td>39</td>\n",
       "      <td>5</td>\n",
       "      <td>0.00</td>\n",
       "      <td>2</td>\n",
       "      <td>1</td>\n",
       "      <td>0</td>\n",
       "      <td>96270.64</td>\n",
       "      <td>0</td>\n",
       "    </tr>\n",
       "    <tr>\n",
       "      <th>9996</th>\n",
       "      <td>9997</td>\n",
       "      <td>15569892</td>\n",
       "      <td>Johnstone</td>\n",
       "      <td>516</td>\n",
       "      <td>France</td>\n",
       "      <td>Male</td>\n",
       "      <td>35</td>\n",
       "      <td>10</td>\n",
       "      <td>57369.61</td>\n",
       "      <td>1</td>\n",
       "      <td>1</td>\n",
       "      <td>1</td>\n",
       "      <td>101699.77</td>\n",
       "      <td>0</td>\n",
       "    </tr>\n",
       "    <tr>\n",
       "      <th>9997</th>\n",
       "      <td>9998</td>\n",
       "      <td>15584532</td>\n",
       "      <td>Liu</td>\n",
       "      <td>709</td>\n",
       "      <td>France</td>\n",
       "      <td>Female</td>\n",
       "      <td>36</td>\n",
       "      <td>7</td>\n",
       "      <td>0.00</td>\n",
       "      <td>1</td>\n",
       "      <td>0</td>\n",
       "      <td>1</td>\n",
       "      <td>42085.58</td>\n",
       "      <td>1</td>\n",
       "    </tr>\n",
       "    <tr>\n",
       "      <th>9998</th>\n",
       "      <td>9999</td>\n",
       "      <td>15682355</td>\n",
       "      <td>Sabbatini</td>\n",
       "      <td>772</td>\n",
       "      <td>Germany</td>\n",
       "      <td>Male</td>\n",
       "      <td>42</td>\n",
       "      <td>3</td>\n",
       "      <td>75075.31</td>\n",
       "      <td>2</td>\n",
       "      <td>1</td>\n",
       "      <td>0</td>\n",
       "      <td>92888.52</td>\n",
       "      <td>1</td>\n",
       "    </tr>\n",
       "    <tr>\n",
       "      <th>9999</th>\n",
       "      <td>10000</td>\n",
       "      <td>15628319</td>\n",
       "      <td>Walker</td>\n",
       "      <td>792</td>\n",
       "      <td>France</td>\n",
       "      <td>Female</td>\n",
       "      <td>28</td>\n",
       "      <td>4</td>\n",
       "      <td>130142.79</td>\n",
       "      <td>1</td>\n",
       "      <td>1</td>\n",
       "      <td>0</td>\n",
       "      <td>38190.78</td>\n",
       "      <td>0</td>\n",
       "    </tr>\n",
       "  </tbody>\n",
       "</table>\n",
       "<p>10000 rows × 14 columns</p>\n",
       "</div>"
      ],
      "text/plain": [
       "      RowNumber  CustomerId    Surname  CreditScore Geography  Gender  Age  \\\n",
       "0             1    15634602   Hargrave          619    France  Female   42   \n",
       "1             2    15647311       Hill          608     Spain  Female   41   \n",
       "2             3    15619304       Onio          502    France  Female   42   \n",
       "3             4    15701354       Boni          699    France  Female   39   \n",
       "4             5    15737888   Mitchell          850     Spain  Female   43   \n",
       "...         ...         ...        ...          ...       ...     ...  ...   \n",
       "9995       9996    15606229   Obijiaku          771    France    Male   39   \n",
       "9996       9997    15569892  Johnstone          516    France    Male   35   \n",
       "9997       9998    15584532        Liu          709    France  Female   36   \n",
       "9998       9999    15682355  Sabbatini          772   Germany    Male   42   \n",
       "9999      10000    15628319     Walker          792    France  Female   28   \n",
       "\n",
       "      Tenure    Balance  NumOfProducts  HasCrCard  IsActiveMember  \\\n",
       "0          2       0.00              1          1               1   \n",
       "1          1   83807.86              1          0               1   \n",
       "2          8  159660.80              3          1               0   \n",
       "3          1       0.00              2          0               0   \n",
       "4          2  125510.82              1          1               1   \n",
       "...      ...        ...            ...        ...             ...   \n",
       "9995       5       0.00              2          1               0   \n",
       "9996      10   57369.61              1          1               1   \n",
       "9997       7       0.00              1          0               1   \n",
       "9998       3   75075.31              2          1               0   \n",
       "9999       4  130142.79              1          1               0   \n",
       "\n",
       "      EstimatedSalary  Exited  \n",
       "0           101348.88       1  \n",
       "1           112542.58       0  \n",
       "2           113931.57       1  \n",
       "3            93826.63       0  \n",
       "4            79084.10       0  \n",
       "...               ...     ...  \n",
       "9995         96270.64       0  \n",
       "9996        101699.77       0  \n",
       "9997         42085.58       1  \n",
       "9998         92888.52       1  \n",
       "9999         38190.78       0  \n",
       "\n",
       "[10000 rows x 14 columns]"
      ]
     },
     "execution_count": 4,
     "metadata": {},
     "output_type": "execute_result"
    }
   ],
   "source": [
    "train_data"
   ]
  },
  {
   "cell_type": "code",
   "execution_count": 5,
   "id": "0221862b",
   "metadata": {
    "execution": {
     "iopub.execute_input": "2023-10-24T13:54:36.057714Z",
     "iopub.status.busy": "2023-10-24T13:54:36.057339Z",
     "iopub.status.idle": "2023-10-24T13:54:36.085009Z",
     "shell.execute_reply": "2023-10-24T13:54:36.083745Z"
    },
    "papermill": {
     "duration": 0.048285,
     "end_time": "2023-10-24T13:54:36.087353",
     "exception": false,
     "start_time": "2023-10-24T13:54:36.039068",
     "status": "completed"
    },
    "tags": []
   },
   "outputs": [
    {
     "name": "stdout",
     "output_type": "stream",
     "text": [
      "<class 'pandas.core.frame.DataFrame'>\n",
      "RangeIndex: 10000 entries, 0 to 9999\n",
      "Data columns (total 14 columns):\n",
      " #   Column           Non-Null Count  Dtype  \n",
      "---  ------           --------------  -----  \n",
      " 0   RowNumber        10000 non-null  int64  \n",
      " 1   CustomerId       10000 non-null  int64  \n",
      " 2   Surname          10000 non-null  object \n",
      " 3   CreditScore      10000 non-null  int64  \n",
      " 4   Geography        10000 non-null  object \n",
      " 5   Gender           10000 non-null  object \n",
      " 6   Age              10000 non-null  int64  \n",
      " 7   Tenure           10000 non-null  int64  \n",
      " 8   Balance          10000 non-null  float64\n",
      " 9   NumOfProducts    10000 non-null  int64  \n",
      " 10  HasCrCard        10000 non-null  int64  \n",
      " 11  IsActiveMember   10000 non-null  int64  \n",
      " 12  EstimatedSalary  10000 non-null  float64\n",
      " 13  Exited           10000 non-null  int64  \n",
      "dtypes: float64(2), int64(9), object(3)\n",
      "memory usage: 1.1+ MB\n"
     ]
    }
   ],
   "source": [
    "train_data.info()"
   ]
  },
  {
   "cell_type": "code",
   "execution_count": 6,
   "id": "214e2e58",
   "metadata": {
    "execution": {
     "iopub.execute_input": "2023-10-24T13:54:36.121936Z",
     "iopub.status.busy": "2023-10-24T13:54:36.121548Z",
     "iopub.status.idle": "2023-10-24T13:54:36.172196Z",
     "shell.execute_reply": "2023-10-24T13:54:36.171063Z"
    },
    "papermill": {
     "duration": 0.070718,
     "end_time": "2023-10-24T13:54:36.174758",
     "exception": false,
     "start_time": "2023-10-24T13:54:36.104040",
     "status": "completed"
    },
    "tags": []
   },
   "outputs": [
    {
     "data": {
      "text/html": [
       "<div>\n",
       "<style scoped>\n",
       "    .dataframe tbody tr th:only-of-type {\n",
       "        vertical-align: middle;\n",
       "    }\n",
       "\n",
       "    .dataframe tbody tr th {\n",
       "        vertical-align: top;\n",
       "    }\n",
       "\n",
       "    .dataframe thead th {\n",
       "        text-align: right;\n",
       "    }\n",
       "</style>\n",
       "<table border=\"1\" class=\"dataframe\">\n",
       "  <thead>\n",
       "    <tr style=\"text-align: right;\">\n",
       "      <th></th>\n",
       "      <th>RowNumber</th>\n",
       "      <th>CustomerId</th>\n",
       "      <th>CreditScore</th>\n",
       "      <th>Age</th>\n",
       "      <th>Tenure</th>\n",
       "      <th>Balance</th>\n",
       "      <th>NumOfProducts</th>\n",
       "      <th>HasCrCard</th>\n",
       "      <th>IsActiveMember</th>\n",
       "      <th>EstimatedSalary</th>\n",
       "      <th>Exited</th>\n",
       "    </tr>\n",
       "  </thead>\n",
       "  <tbody>\n",
       "    <tr>\n",
       "      <th>count</th>\n",
       "      <td>10000.00000</td>\n",
       "      <td>1.000000e+04</td>\n",
       "      <td>10000.000000</td>\n",
       "      <td>10000.000000</td>\n",
       "      <td>10000.000000</td>\n",
       "      <td>10000.000000</td>\n",
       "      <td>10000.000000</td>\n",
       "      <td>10000.00000</td>\n",
       "      <td>10000.000000</td>\n",
       "      <td>10000.000000</td>\n",
       "      <td>10000.000000</td>\n",
       "    </tr>\n",
       "    <tr>\n",
       "      <th>mean</th>\n",
       "      <td>5000.50000</td>\n",
       "      <td>1.569094e+07</td>\n",
       "      <td>650.528800</td>\n",
       "      <td>38.921800</td>\n",
       "      <td>5.012800</td>\n",
       "      <td>76485.889288</td>\n",
       "      <td>1.530200</td>\n",
       "      <td>0.70550</td>\n",
       "      <td>0.515100</td>\n",
       "      <td>100090.239881</td>\n",
       "      <td>0.203700</td>\n",
       "    </tr>\n",
       "    <tr>\n",
       "      <th>std</th>\n",
       "      <td>2886.89568</td>\n",
       "      <td>7.193619e+04</td>\n",
       "      <td>96.653299</td>\n",
       "      <td>10.487806</td>\n",
       "      <td>2.892174</td>\n",
       "      <td>62397.405202</td>\n",
       "      <td>0.581654</td>\n",
       "      <td>0.45584</td>\n",
       "      <td>0.499797</td>\n",
       "      <td>57510.492818</td>\n",
       "      <td>0.402769</td>\n",
       "    </tr>\n",
       "    <tr>\n",
       "      <th>min</th>\n",
       "      <td>1.00000</td>\n",
       "      <td>1.556570e+07</td>\n",
       "      <td>350.000000</td>\n",
       "      <td>18.000000</td>\n",
       "      <td>0.000000</td>\n",
       "      <td>0.000000</td>\n",
       "      <td>1.000000</td>\n",
       "      <td>0.00000</td>\n",
       "      <td>0.000000</td>\n",
       "      <td>11.580000</td>\n",
       "      <td>0.000000</td>\n",
       "    </tr>\n",
       "    <tr>\n",
       "      <th>25%</th>\n",
       "      <td>2500.75000</td>\n",
       "      <td>1.562853e+07</td>\n",
       "      <td>584.000000</td>\n",
       "      <td>32.000000</td>\n",
       "      <td>3.000000</td>\n",
       "      <td>0.000000</td>\n",
       "      <td>1.000000</td>\n",
       "      <td>0.00000</td>\n",
       "      <td>0.000000</td>\n",
       "      <td>51002.110000</td>\n",
       "      <td>0.000000</td>\n",
       "    </tr>\n",
       "    <tr>\n",
       "      <th>50%</th>\n",
       "      <td>5000.50000</td>\n",
       "      <td>1.569074e+07</td>\n",
       "      <td>652.000000</td>\n",
       "      <td>37.000000</td>\n",
       "      <td>5.000000</td>\n",
       "      <td>97198.540000</td>\n",
       "      <td>1.000000</td>\n",
       "      <td>1.00000</td>\n",
       "      <td>1.000000</td>\n",
       "      <td>100193.915000</td>\n",
       "      <td>0.000000</td>\n",
       "    </tr>\n",
       "    <tr>\n",
       "      <th>75%</th>\n",
       "      <td>7500.25000</td>\n",
       "      <td>1.575323e+07</td>\n",
       "      <td>718.000000</td>\n",
       "      <td>44.000000</td>\n",
       "      <td>7.000000</td>\n",
       "      <td>127644.240000</td>\n",
       "      <td>2.000000</td>\n",
       "      <td>1.00000</td>\n",
       "      <td>1.000000</td>\n",
       "      <td>149388.247500</td>\n",
       "      <td>0.000000</td>\n",
       "    </tr>\n",
       "    <tr>\n",
       "      <th>max</th>\n",
       "      <td>10000.00000</td>\n",
       "      <td>1.581569e+07</td>\n",
       "      <td>850.000000</td>\n",
       "      <td>92.000000</td>\n",
       "      <td>10.000000</td>\n",
       "      <td>250898.090000</td>\n",
       "      <td>4.000000</td>\n",
       "      <td>1.00000</td>\n",
       "      <td>1.000000</td>\n",
       "      <td>199992.480000</td>\n",
       "      <td>1.000000</td>\n",
       "    </tr>\n",
       "  </tbody>\n",
       "</table>\n",
       "</div>"
      ],
      "text/plain": [
       "         RowNumber    CustomerId   CreditScore           Age        Tenure  \\\n",
       "count  10000.00000  1.000000e+04  10000.000000  10000.000000  10000.000000   \n",
       "mean    5000.50000  1.569094e+07    650.528800     38.921800      5.012800   \n",
       "std     2886.89568  7.193619e+04     96.653299     10.487806      2.892174   \n",
       "min        1.00000  1.556570e+07    350.000000     18.000000      0.000000   \n",
       "25%     2500.75000  1.562853e+07    584.000000     32.000000      3.000000   \n",
       "50%     5000.50000  1.569074e+07    652.000000     37.000000      5.000000   \n",
       "75%     7500.25000  1.575323e+07    718.000000     44.000000      7.000000   \n",
       "max    10000.00000  1.581569e+07    850.000000     92.000000     10.000000   \n",
       "\n",
       "             Balance  NumOfProducts    HasCrCard  IsActiveMember  \\\n",
       "count   10000.000000   10000.000000  10000.00000    10000.000000   \n",
       "mean    76485.889288       1.530200      0.70550        0.515100   \n",
       "std     62397.405202       0.581654      0.45584        0.499797   \n",
       "min         0.000000       1.000000      0.00000        0.000000   \n",
       "25%         0.000000       1.000000      0.00000        0.000000   \n",
       "50%     97198.540000       1.000000      1.00000        1.000000   \n",
       "75%    127644.240000       2.000000      1.00000        1.000000   \n",
       "max    250898.090000       4.000000      1.00000        1.000000   \n",
       "\n",
       "       EstimatedSalary        Exited  \n",
       "count     10000.000000  10000.000000  \n",
       "mean     100090.239881      0.203700  \n",
       "std       57510.492818      0.402769  \n",
       "min          11.580000      0.000000  \n",
       "25%       51002.110000      0.000000  \n",
       "50%      100193.915000      0.000000  \n",
       "75%      149388.247500      0.000000  \n",
       "max      199992.480000      1.000000  "
      ]
     },
     "execution_count": 6,
     "metadata": {},
     "output_type": "execute_result"
    }
   ],
   "source": [
    "train_data.describe()"
   ]
  },
  {
   "cell_type": "code",
   "execution_count": 7,
   "id": "df4df3d4",
   "metadata": {
    "execution": {
     "iopub.execute_input": "2023-10-24T13:54:36.211209Z",
     "iopub.status.busy": "2023-10-24T13:54:36.210801Z",
     "iopub.status.idle": "2023-10-24T13:54:36.236697Z",
     "shell.execute_reply": "2023-10-24T13:54:36.235591Z"
    },
    "papermill": {
     "duration": 0.047066,
     "end_time": "2023-10-24T13:54:36.238903",
     "exception": false,
     "start_time": "2023-10-24T13:54:36.191837",
     "status": "completed"
    },
    "tags": []
   },
   "outputs": [
    {
     "data": {
      "text/html": [
       "<div>\n",
       "<style scoped>\n",
       "    .dataframe tbody tr th:only-of-type {\n",
       "        vertical-align: middle;\n",
       "    }\n",
       "\n",
       "    .dataframe tbody tr th {\n",
       "        vertical-align: top;\n",
       "    }\n",
       "\n",
       "    .dataframe thead th {\n",
       "        text-align: right;\n",
       "    }\n",
       "</style>\n",
       "<table border=\"1\" class=\"dataframe\">\n",
       "  <thead>\n",
       "    <tr style=\"text-align: right;\">\n",
       "      <th></th>\n",
       "      <th>Surname</th>\n",
       "      <th>Geography</th>\n",
       "      <th>Gender</th>\n",
       "    </tr>\n",
       "  </thead>\n",
       "  <tbody>\n",
       "    <tr>\n",
       "      <th>count</th>\n",
       "      <td>10000</td>\n",
       "      <td>10000</td>\n",
       "      <td>10000</td>\n",
       "    </tr>\n",
       "    <tr>\n",
       "      <th>unique</th>\n",
       "      <td>2932</td>\n",
       "      <td>3</td>\n",
       "      <td>2</td>\n",
       "    </tr>\n",
       "    <tr>\n",
       "      <th>top</th>\n",
       "      <td>Smith</td>\n",
       "      <td>France</td>\n",
       "      <td>Male</td>\n",
       "    </tr>\n",
       "    <tr>\n",
       "      <th>freq</th>\n",
       "      <td>32</td>\n",
       "      <td>5014</td>\n",
       "      <td>5457</td>\n",
       "    </tr>\n",
       "  </tbody>\n",
       "</table>\n",
       "</div>"
      ],
      "text/plain": [
       "       Surname Geography Gender\n",
       "count    10000     10000  10000\n",
       "unique    2932         3      2\n",
       "top      Smith    France   Male\n",
       "freq        32      5014   5457"
      ]
     },
     "execution_count": 7,
     "metadata": {},
     "output_type": "execute_result"
    }
   ],
   "source": [
    "train_data.describe(include = 'object')"
   ]
  },
  {
   "cell_type": "code",
   "execution_count": 8,
   "id": "d4f59331",
   "metadata": {
    "execution": {
     "iopub.execute_input": "2023-10-24T13:54:36.275887Z",
     "iopub.status.busy": "2023-10-24T13:54:36.275187Z",
     "iopub.status.idle": "2023-10-24T13:54:36.287154Z",
     "shell.execute_reply": "2023-10-24T13:54:36.286081Z"
    },
    "papermill": {
     "duration": 0.033227,
     "end_time": "2023-10-24T13:54:36.289587",
     "exception": false,
     "start_time": "2023-10-24T13:54:36.256360",
     "status": "completed"
    },
    "tags": []
   },
   "outputs": [
    {
     "data": {
      "text/plain": [
       "RowNumber          0\n",
       "CustomerId         0\n",
       "Surname            0\n",
       "CreditScore        0\n",
       "Geography          0\n",
       "Gender             0\n",
       "Age                0\n",
       "Tenure             0\n",
       "Balance            0\n",
       "NumOfProducts      0\n",
       "HasCrCard          0\n",
       "IsActiveMember     0\n",
       "EstimatedSalary    0\n",
       "Exited             0\n",
       "dtype: int64"
      ]
     },
     "execution_count": 8,
     "metadata": {},
     "output_type": "execute_result"
    }
   ],
   "source": [
    "train_data.isnull().sum()"
   ]
  },
  {
   "cell_type": "code",
   "execution_count": 9,
   "id": "9be90c60",
   "metadata": {
    "execution": {
     "iopub.execute_input": "2023-10-24T13:54:36.327143Z",
     "iopub.status.busy": "2023-10-24T13:54:36.326409Z",
     "iopub.status.idle": "2023-10-24T13:54:36.336696Z",
     "shell.execute_reply": "2023-10-24T13:54:36.335802Z"
    },
    "papermill": {
     "duration": 0.031407,
     "end_time": "2023-10-24T13:54:36.338989",
     "exception": false,
     "start_time": "2023-10-24T13:54:36.307582",
     "status": "completed"
    },
    "tags": []
   },
   "outputs": [],
   "source": [
    "train_data.dropna(ignore_index=True,inplace=True)"
   ]
  },
  {
   "cell_type": "code",
   "execution_count": 10,
   "id": "a0868854",
   "metadata": {
    "execution": {
     "iopub.execute_input": "2023-10-24T13:54:36.376481Z",
     "iopub.status.busy": "2023-10-24T13:54:36.375279Z",
     "iopub.status.idle": "2023-10-24T13:54:36.383112Z",
     "shell.execute_reply": "2023-10-24T13:54:36.382305Z"
    },
    "papermill": {
     "duration": 0.028881,
     "end_time": "2023-10-24T13:54:36.385333",
     "exception": false,
     "start_time": "2023-10-24T13:54:36.356452",
     "status": "completed"
    },
    "tags": []
   },
   "outputs": [],
   "source": [
    "# Drop the unwanted columns\n",
    "data = train_data.drop(columns=['RowNumber','CustomerId','Surname'])"
   ]
  },
  {
   "cell_type": "code",
   "execution_count": 11,
   "id": "7ce84d3e",
   "metadata": {
    "execution": {
     "iopub.execute_input": "2023-10-24T13:54:36.481694Z",
     "iopub.status.busy": "2023-10-24T13:54:36.481298Z",
     "iopub.status.idle": "2023-10-24T13:54:36.504042Z",
     "shell.execute_reply": "2023-10-24T13:54:36.502853Z"
    },
    "papermill": {
     "duration": 0.043859,
     "end_time": "2023-10-24T13:54:36.506545",
     "exception": false,
     "start_time": "2023-10-24T13:54:36.462686",
     "status": "completed"
    },
    "tags": []
   },
   "outputs": [
    {
     "data": {
      "text/html": [
       "<div>\n",
       "<style scoped>\n",
       "    .dataframe tbody tr th:only-of-type {\n",
       "        vertical-align: middle;\n",
       "    }\n",
       "\n",
       "    .dataframe tbody tr th {\n",
       "        vertical-align: top;\n",
       "    }\n",
       "\n",
       "    .dataframe thead th {\n",
       "        text-align: right;\n",
       "    }\n",
       "</style>\n",
       "<table border=\"1\" class=\"dataframe\">\n",
       "  <thead>\n",
       "    <tr style=\"text-align: right;\">\n",
       "      <th></th>\n",
       "      <th>CreditScore</th>\n",
       "      <th>Geography</th>\n",
       "      <th>Gender</th>\n",
       "      <th>Age</th>\n",
       "      <th>Tenure</th>\n",
       "      <th>Balance</th>\n",
       "      <th>NumOfProducts</th>\n",
       "      <th>HasCrCard</th>\n",
       "      <th>IsActiveMember</th>\n",
       "      <th>EstimatedSalary</th>\n",
       "      <th>Exited</th>\n",
       "    </tr>\n",
       "  </thead>\n",
       "  <tbody>\n",
       "    <tr>\n",
       "      <th>0</th>\n",
       "      <td>619</td>\n",
       "      <td>France</td>\n",
       "      <td>Female</td>\n",
       "      <td>42</td>\n",
       "      <td>2</td>\n",
       "      <td>0.00</td>\n",
       "      <td>1</td>\n",
       "      <td>1</td>\n",
       "      <td>1</td>\n",
       "      <td>101348.88</td>\n",
       "      <td>1</td>\n",
       "    </tr>\n",
       "    <tr>\n",
       "      <th>1</th>\n",
       "      <td>608</td>\n",
       "      <td>Spain</td>\n",
       "      <td>Female</td>\n",
       "      <td>41</td>\n",
       "      <td>1</td>\n",
       "      <td>83807.86</td>\n",
       "      <td>1</td>\n",
       "      <td>0</td>\n",
       "      <td>1</td>\n",
       "      <td>112542.58</td>\n",
       "      <td>0</td>\n",
       "    </tr>\n",
       "    <tr>\n",
       "      <th>2</th>\n",
       "      <td>502</td>\n",
       "      <td>France</td>\n",
       "      <td>Female</td>\n",
       "      <td>42</td>\n",
       "      <td>8</td>\n",
       "      <td>159660.80</td>\n",
       "      <td>3</td>\n",
       "      <td>1</td>\n",
       "      <td>0</td>\n",
       "      <td>113931.57</td>\n",
       "      <td>1</td>\n",
       "    </tr>\n",
       "    <tr>\n",
       "      <th>3</th>\n",
       "      <td>699</td>\n",
       "      <td>France</td>\n",
       "      <td>Female</td>\n",
       "      <td>39</td>\n",
       "      <td>1</td>\n",
       "      <td>0.00</td>\n",
       "      <td>2</td>\n",
       "      <td>0</td>\n",
       "      <td>0</td>\n",
       "      <td>93826.63</td>\n",
       "      <td>0</td>\n",
       "    </tr>\n",
       "    <tr>\n",
       "      <th>4</th>\n",
       "      <td>850</td>\n",
       "      <td>Spain</td>\n",
       "      <td>Female</td>\n",
       "      <td>43</td>\n",
       "      <td>2</td>\n",
       "      <td>125510.82</td>\n",
       "      <td>1</td>\n",
       "      <td>1</td>\n",
       "      <td>1</td>\n",
       "      <td>79084.10</td>\n",
       "      <td>0</td>\n",
       "    </tr>\n",
       "    <tr>\n",
       "      <th>...</th>\n",
       "      <td>...</td>\n",
       "      <td>...</td>\n",
       "      <td>...</td>\n",
       "      <td>...</td>\n",
       "      <td>...</td>\n",
       "      <td>...</td>\n",
       "      <td>...</td>\n",
       "      <td>...</td>\n",
       "      <td>...</td>\n",
       "      <td>...</td>\n",
       "      <td>...</td>\n",
       "    </tr>\n",
       "    <tr>\n",
       "      <th>9995</th>\n",
       "      <td>771</td>\n",
       "      <td>France</td>\n",
       "      <td>Male</td>\n",
       "      <td>39</td>\n",
       "      <td>5</td>\n",
       "      <td>0.00</td>\n",
       "      <td>2</td>\n",
       "      <td>1</td>\n",
       "      <td>0</td>\n",
       "      <td>96270.64</td>\n",
       "      <td>0</td>\n",
       "    </tr>\n",
       "    <tr>\n",
       "      <th>9996</th>\n",
       "      <td>516</td>\n",
       "      <td>France</td>\n",
       "      <td>Male</td>\n",
       "      <td>35</td>\n",
       "      <td>10</td>\n",
       "      <td>57369.61</td>\n",
       "      <td>1</td>\n",
       "      <td>1</td>\n",
       "      <td>1</td>\n",
       "      <td>101699.77</td>\n",
       "      <td>0</td>\n",
       "    </tr>\n",
       "    <tr>\n",
       "      <th>9997</th>\n",
       "      <td>709</td>\n",
       "      <td>France</td>\n",
       "      <td>Female</td>\n",
       "      <td>36</td>\n",
       "      <td>7</td>\n",
       "      <td>0.00</td>\n",
       "      <td>1</td>\n",
       "      <td>0</td>\n",
       "      <td>1</td>\n",
       "      <td>42085.58</td>\n",
       "      <td>1</td>\n",
       "    </tr>\n",
       "    <tr>\n",
       "      <th>9998</th>\n",
       "      <td>772</td>\n",
       "      <td>Germany</td>\n",
       "      <td>Male</td>\n",
       "      <td>42</td>\n",
       "      <td>3</td>\n",
       "      <td>75075.31</td>\n",
       "      <td>2</td>\n",
       "      <td>1</td>\n",
       "      <td>0</td>\n",
       "      <td>92888.52</td>\n",
       "      <td>1</td>\n",
       "    </tr>\n",
       "    <tr>\n",
       "      <th>9999</th>\n",
       "      <td>792</td>\n",
       "      <td>France</td>\n",
       "      <td>Female</td>\n",
       "      <td>28</td>\n",
       "      <td>4</td>\n",
       "      <td>130142.79</td>\n",
       "      <td>1</td>\n",
       "      <td>1</td>\n",
       "      <td>0</td>\n",
       "      <td>38190.78</td>\n",
       "      <td>0</td>\n",
       "    </tr>\n",
       "  </tbody>\n",
       "</table>\n",
       "<p>10000 rows × 11 columns</p>\n",
       "</div>"
      ],
      "text/plain": [
       "      CreditScore Geography  Gender  Age  Tenure    Balance  NumOfProducts  \\\n",
       "0             619    France  Female   42       2       0.00              1   \n",
       "1             608     Spain  Female   41       1   83807.86              1   \n",
       "2             502    France  Female   42       8  159660.80              3   \n",
       "3             699    France  Female   39       1       0.00              2   \n",
       "4             850     Spain  Female   43       2  125510.82              1   \n",
       "...           ...       ...     ...  ...     ...        ...            ...   \n",
       "9995          771    France    Male   39       5       0.00              2   \n",
       "9996          516    France    Male   35      10   57369.61              1   \n",
       "9997          709    France  Female   36       7       0.00              1   \n",
       "9998          772   Germany    Male   42       3   75075.31              2   \n",
       "9999          792    France  Female   28       4  130142.79              1   \n",
       "\n",
       "      HasCrCard  IsActiveMember  EstimatedSalary  Exited  \n",
       "0             1               1        101348.88       1  \n",
       "1             0               1        112542.58       0  \n",
       "2             1               0        113931.57       1  \n",
       "3             0               0         93826.63       0  \n",
       "4             1               1         79084.10       0  \n",
       "...         ...             ...              ...     ...  \n",
       "9995          1               0         96270.64       0  \n",
       "9996          1               1        101699.77       0  \n",
       "9997          0               1         42085.58       1  \n",
       "9998          1               0         92888.52       1  \n",
       "9999          1               0         38190.78       0  \n",
       "\n",
       "[10000 rows x 11 columns]"
      ]
     },
     "execution_count": 11,
     "metadata": {},
     "output_type": "execute_result"
    }
   ],
   "source": [
    "data"
   ]
  },
  {
   "cell_type": "code",
   "execution_count": 12,
   "id": "cdcf12cc",
   "metadata": {
    "execution": {
     "iopub.execute_input": "2023-10-24T13:54:36.544583Z",
     "iopub.status.busy": "2023-10-24T13:54:36.544132Z",
     "iopub.status.idle": "2023-10-24T13:54:36.558002Z",
     "shell.execute_reply": "2023-10-24T13:54:36.556947Z"
    },
    "papermill": {
     "duration": 0.034858,
     "end_time": "2023-10-24T13:54:36.560417",
     "exception": false,
     "start_time": "2023-10-24T13:54:36.525559",
     "status": "completed"
    },
    "tags": []
   },
   "outputs": [
    {
     "name": "stdout",
     "output_type": "stream",
     "text": [
      "<class 'pandas.core.frame.DataFrame'>\n",
      "RangeIndex: 10000 entries, 0 to 9999\n",
      "Data columns (total 11 columns):\n",
      " #   Column           Non-Null Count  Dtype  \n",
      "---  ------           --------------  -----  \n",
      " 0   CreditScore      10000 non-null  int64  \n",
      " 1   Geography        10000 non-null  object \n",
      " 2   Gender           10000 non-null  object \n",
      " 3   Age              10000 non-null  int64  \n",
      " 4   Tenure           10000 non-null  int64  \n",
      " 5   Balance          10000 non-null  float64\n",
      " 6   NumOfProducts    10000 non-null  int64  \n",
      " 7   HasCrCard        10000 non-null  int64  \n",
      " 8   IsActiveMember   10000 non-null  int64  \n",
      " 9   EstimatedSalary  10000 non-null  float64\n",
      " 10  Exited           10000 non-null  int64  \n",
      "dtypes: float64(2), int64(7), object(2)\n",
      "memory usage: 859.5+ KB\n"
     ]
    }
   ],
   "source": [
    "data.info()\n",
    "#Few columns are category type --> Exited, Geography, Gender, HasCrCard, IsActiveMember"
   ]
  },
  {
   "cell_type": "markdown",
   "id": "a31bb69c",
   "metadata": {
    "execution": {
     "iopub.execute_input": "2023-10-22T13:02:16.333397Z",
     "iopub.status.busy": "2023-10-22T13:02:16.332919Z",
     "iopub.status.idle": "2023-10-22T13:02:16.343164Z",
     "shell.execute_reply": "2023-10-22T13:02:16.341090Z",
     "shell.execute_reply.started": "2023-10-22T13:02:16.333360Z"
    },
    "papermill": {
     "duration": 0.017466,
     "end_time": "2023-10-24T13:54:36.596147",
     "exception": false,
     "start_time": "2023-10-24T13:54:36.578681",
     "status": "completed"
    },
    "tags": []
   },
   "source": [
    "<a id=\"2\"></a> <br>\n",
    "## Data Visualization"
   ]
  },
  {
   "cell_type": "code",
   "execution_count": 13,
   "id": "47107afa",
   "metadata": {
    "execution": {
     "iopub.execute_input": "2023-10-24T13:54:36.632549Z",
     "iopub.status.busy": "2023-10-24T13:54:36.632125Z",
     "iopub.status.idle": "2023-10-24T13:54:36.652343Z",
     "shell.execute_reply": "2023-10-24T13:54:36.651579Z"
    },
    "papermill": {
     "duration": 0.040525,
     "end_time": "2023-10-24T13:54:36.654314",
     "exception": false,
     "start_time": "2023-10-24T13:54:36.613789",
     "status": "completed"
    },
    "tags": []
   },
   "outputs": [
    {
     "data": {
      "text/html": [
       "<div>\n",
       "<style scoped>\n",
       "    .dataframe tbody tr th:only-of-type {\n",
       "        vertical-align: middle;\n",
       "    }\n",
       "\n",
       "    .dataframe tbody tr th {\n",
       "        vertical-align: top;\n",
       "    }\n",
       "\n",
       "    .dataframe thead th {\n",
       "        text-align: right;\n",
       "    }\n",
       "</style>\n",
       "<table border=\"1\" class=\"dataframe\">\n",
       "  <thead>\n",
       "    <tr style=\"text-align: right;\">\n",
       "      <th></th>\n",
       "      <th>CreditScore</th>\n",
       "      <th>Geography</th>\n",
       "      <th>Gender</th>\n",
       "      <th>Age</th>\n",
       "      <th>Tenure</th>\n",
       "      <th>Balance</th>\n",
       "      <th>NumOfProducts</th>\n",
       "      <th>HasCrCard</th>\n",
       "      <th>IsActiveMember</th>\n",
       "      <th>EstimatedSalary</th>\n",
       "      <th>Exited</th>\n",
       "    </tr>\n",
       "  </thead>\n",
       "  <tbody>\n",
       "    <tr>\n",
       "      <th>0</th>\n",
       "      <td>619</td>\n",
       "      <td>France</td>\n",
       "      <td>Female</td>\n",
       "      <td>42</td>\n",
       "      <td>2</td>\n",
       "      <td>0.00</td>\n",
       "      <td>1</td>\n",
       "      <td>1</td>\n",
       "      <td>1</td>\n",
       "      <td>101348.88</td>\n",
       "      <td>1</td>\n",
       "    </tr>\n",
       "    <tr>\n",
       "      <th>1</th>\n",
       "      <td>608</td>\n",
       "      <td>Spain</td>\n",
       "      <td>Female</td>\n",
       "      <td>41</td>\n",
       "      <td>1</td>\n",
       "      <td>83807.86</td>\n",
       "      <td>1</td>\n",
       "      <td>0</td>\n",
       "      <td>1</td>\n",
       "      <td>112542.58</td>\n",
       "      <td>0</td>\n",
       "    </tr>\n",
       "    <tr>\n",
       "      <th>2</th>\n",
       "      <td>502</td>\n",
       "      <td>France</td>\n",
       "      <td>Female</td>\n",
       "      <td>42</td>\n",
       "      <td>8</td>\n",
       "      <td>159660.80</td>\n",
       "      <td>3</td>\n",
       "      <td>1</td>\n",
       "      <td>0</td>\n",
       "      <td>113931.57</td>\n",
       "      <td>1</td>\n",
       "    </tr>\n",
       "    <tr>\n",
       "      <th>3</th>\n",
       "      <td>699</td>\n",
       "      <td>France</td>\n",
       "      <td>Female</td>\n",
       "      <td>39</td>\n",
       "      <td>1</td>\n",
       "      <td>0.00</td>\n",
       "      <td>2</td>\n",
       "      <td>0</td>\n",
       "      <td>0</td>\n",
       "      <td>93826.63</td>\n",
       "      <td>0</td>\n",
       "    </tr>\n",
       "    <tr>\n",
       "      <th>4</th>\n",
       "      <td>850</td>\n",
       "      <td>Spain</td>\n",
       "      <td>Female</td>\n",
       "      <td>43</td>\n",
       "      <td>2</td>\n",
       "      <td>125510.82</td>\n",
       "      <td>1</td>\n",
       "      <td>1</td>\n",
       "      <td>1</td>\n",
       "      <td>79084.10</td>\n",
       "      <td>0</td>\n",
       "    </tr>\n",
       "    <tr>\n",
       "      <th>...</th>\n",
       "      <td>...</td>\n",
       "      <td>...</td>\n",
       "      <td>...</td>\n",
       "      <td>...</td>\n",
       "      <td>...</td>\n",
       "      <td>...</td>\n",
       "      <td>...</td>\n",
       "      <td>...</td>\n",
       "      <td>...</td>\n",
       "      <td>...</td>\n",
       "      <td>...</td>\n",
       "    </tr>\n",
       "    <tr>\n",
       "      <th>9995</th>\n",
       "      <td>771</td>\n",
       "      <td>France</td>\n",
       "      <td>Male</td>\n",
       "      <td>39</td>\n",
       "      <td>5</td>\n",
       "      <td>0.00</td>\n",
       "      <td>2</td>\n",
       "      <td>1</td>\n",
       "      <td>0</td>\n",
       "      <td>96270.64</td>\n",
       "      <td>0</td>\n",
       "    </tr>\n",
       "    <tr>\n",
       "      <th>9996</th>\n",
       "      <td>516</td>\n",
       "      <td>France</td>\n",
       "      <td>Male</td>\n",
       "      <td>35</td>\n",
       "      <td>10</td>\n",
       "      <td>57369.61</td>\n",
       "      <td>1</td>\n",
       "      <td>1</td>\n",
       "      <td>1</td>\n",
       "      <td>101699.77</td>\n",
       "      <td>0</td>\n",
       "    </tr>\n",
       "    <tr>\n",
       "      <th>9997</th>\n",
       "      <td>709</td>\n",
       "      <td>France</td>\n",
       "      <td>Female</td>\n",
       "      <td>36</td>\n",
       "      <td>7</td>\n",
       "      <td>0.00</td>\n",
       "      <td>1</td>\n",
       "      <td>0</td>\n",
       "      <td>1</td>\n",
       "      <td>42085.58</td>\n",
       "      <td>1</td>\n",
       "    </tr>\n",
       "    <tr>\n",
       "      <th>9998</th>\n",
       "      <td>772</td>\n",
       "      <td>Germany</td>\n",
       "      <td>Male</td>\n",
       "      <td>42</td>\n",
       "      <td>3</td>\n",
       "      <td>75075.31</td>\n",
       "      <td>2</td>\n",
       "      <td>1</td>\n",
       "      <td>0</td>\n",
       "      <td>92888.52</td>\n",
       "      <td>1</td>\n",
       "    </tr>\n",
       "    <tr>\n",
       "      <th>9999</th>\n",
       "      <td>792</td>\n",
       "      <td>France</td>\n",
       "      <td>Female</td>\n",
       "      <td>28</td>\n",
       "      <td>4</td>\n",
       "      <td>130142.79</td>\n",
       "      <td>1</td>\n",
       "      <td>1</td>\n",
       "      <td>0</td>\n",
       "      <td>38190.78</td>\n",
       "      <td>0</td>\n",
       "    </tr>\n",
       "  </tbody>\n",
       "</table>\n",
       "<p>10000 rows × 11 columns</p>\n",
       "</div>"
      ],
      "text/plain": [
       "      CreditScore Geography  Gender  Age  Tenure    Balance  NumOfProducts  \\\n",
       "0             619    France  Female   42       2       0.00              1   \n",
       "1             608     Spain  Female   41       1   83807.86              1   \n",
       "2             502    France  Female   42       8  159660.80              3   \n",
       "3             699    France  Female   39       1       0.00              2   \n",
       "4             850     Spain  Female   43       2  125510.82              1   \n",
       "...           ...       ...     ...  ...     ...        ...            ...   \n",
       "9995          771    France    Male   39       5       0.00              2   \n",
       "9996          516    France    Male   35      10   57369.61              1   \n",
       "9997          709    France  Female   36       7       0.00              1   \n",
       "9998          772   Germany    Male   42       3   75075.31              2   \n",
       "9999          792    France  Female   28       4  130142.79              1   \n",
       "\n",
       "      HasCrCard  IsActiveMember  EstimatedSalary  Exited  \n",
       "0             1               1        101348.88       1  \n",
       "1             0               1        112542.58       0  \n",
       "2             1               0        113931.57       1  \n",
       "3             0               0         93826.63       0  \n",
       "4             1               1         79084.10       0  \n",
       "...         ...             ...              ...     ...  \n",
       "9995          1               0         96270.64       0  \n",
       "9996          1               1        101699.77       0  \n",
       "9997          0               1         42085.58       1  \n",
       "9998          1               0         92888.52       1  \n",
       "9999          1               0         38190.78       0  \n",
       "\n",
       "[10000 rows x 11 columns]"
      ]
     },
     "execution_count": 13,
     "metadata": {},
     "output_type": "execute_result"
    }
   ],
   "source": [
    "data"
   ]
  },
  {
   "cell_type": "code",
   "execution_count": 14,
   "id": "0ccfd634",
   "metadata": {
    "execution": {
     "iopub.execute_input": "2023-10-24T13:54:36.691479Z",
     "iopub.status.busy": "2023-10-24T13:54:36.690812Z",
     "iopub.status.idle": "2023-10-24T13:54:36.991799Z",
     "shell.execute_reply": "2023-10-24T13:54:36.990936Z"
    },
    "papermill": {
     "duration": 0.3219,
     "end_time": "2023-10-24T13:54:36.993937",
     "exception": false,
     "start_time": "2023-10-24T13:54:36.672037",
     "status": "completed"
    },
    "tags": []
   },
   "outputs": [
    {
     "data": {
      "text/plain": [
       "Text(0, 0.5, 'Count')"
      ]
     },
     "execution_count": 14,
     "metadata": {},
     "output_type": "execute_result"
    },
    {
     "data": {
      "image/png": "[encoded data removed]",
      "text/plain": [
       "<Figure size 640x480 with 1 Axes>"
      ]
     },
     "metadata": {},
     "output_type": "display_data"
    }
   ],
   "source": [
    "# First the Check whether the dataset is balanced or not\n",
    "ax = data['Exited'].value_counts().to_frame().plot(kind='bar',legend=False)\n",
    "ax.set_xlabel('Exited')\n",
    "ax.set_ylabel('Count')"
   ]
  },
  {
   "cell_type": "code",
   "execution_count": 15,
   "id": "43fd04fc",
   "metadata": {
    "execution": {
     "iopub.execute_input": "2023-10-24T13:54:37.032670Z",
     "iopub.status.busy": "2023-10-24T13:54:37.031715Z",
     "iopub.status.idle": "2023-10-24T13:54:38.441126Z",
     "shell.execute_reply": "2023-10-24T13:54:38.440027Z"
    },
    "papermill": {
     "duration": 1.431101,
     "end_time": "2023-10-24T13:54:38.443461",
     "exception": false,
     "start_time": "2023-10-24T13:54:37.012360",
     "status": "completed"
    },
    "tags": []
   },
   "outputs": [
    {
     "data": {
      "text/html": [
       "<div>\n",
       "<style scoped>\n",
       "    .dataframe tbody tr th:only-of-type {\n",
       "        vertical-align: middle;\n",
       "    }\n",
       "\n",
       "    .dataframe tbody tr th {\n",
       "        vertical-align: top;\n",
       "    }\n",
       "\n",
       "    .dataframe thead th {\n",
       "        text-align: right;\n",
       "    }\n",
       "</style>\n",
       "<table border=\"1\" class=\"dataframe\">\n",
       "  <thead>\n",
       "    <tr style=\"text-align: right;\">\n",
       "      <th></th>\n",
       "      <th>Geography</th>\n",
       "      <th>count</th>\n",
       "    </tr>\n",
       "  </thead>\n",
       "  <tbody>\n",
       "    <tr>\n",
       "      <th>0</th>\n",
       "      <td>France</td>\n",
       "      <td>5014</td>\n",
       "    </tr>\n",
       "    <tr>\n",
       "      <th>1</th>\n",
       "      <td>Germany</td>\n",
       "      <td>2509</td>\n",
       "    </tr>\n",
       "    <tr>\n",
       "      <th>2</th>\n",
       "      <td>Spain</td>\n",
       "      <td>2477</td>\n",
       "    </tr>\n",
       "  </tbody>\n",
       "</table>\n",
       "</div>"
      ],
      "text/plain": [
       "  Geography  count\n",
       "0    France   5014\n",
       "1   Germany   2509\n",
       "2     Spain   2477"
      ]
     },
     "execution_count": 15,
     "metadata": {},
     "output_type": "execute_result"
    }
   ],
   "source": [
    "# Find any Pattern or Trend Followed which leads to the customer churn or not in the dataset\n",
    "import seaborn as sns\n",
    "c = data['Geography'].value_counts().to_frame()\n",
    "c.reset_index()"
   ]
  },
  {
   "cell_type": "code",
   "execution_count": 16,
   "id": "d9fa62a8",
   "metadata": {
    "execution": {
     "iopub.execute_input": "2023-10-24T13:54:38.484501Z",
     "iopub.status.busy": "2023-10-24T13:54:38.483726Z",
     "iopub.status.idle": "2023-10-24T13:54:38.503822Z",
     "shell.execute_reply": "2023-10-24T13:54:38.502749Z"
    },
    "papermill": {
     "duration": 0.043068,
     "end_time": "2023-10-24T13:54:38.506124",
     "exception": false,
     "start_time": "2023-10-24T13:54:38.463056",
     "status": "completed"
    },
    "tags": []
   },
   "outputs": [
    {
     "data": {
      "text/html": [
       "<div>\n",
       "<style scoped>\n",
       "    .dataframe tbody tr th:only-of-type {\n",
       "        vertical-align: middle;\n",
       "    }\n",
       "\n",
       "    .dataframe tbody tr th {\n",
       "        vertical-align: top;\n",
       "    }\n",
       "\n",
       "    .dataframe thead th {\n",
       "        text-align: right;\n",
       "    }\n",
       "</style>\n",
       "<table border=\"1\" class=\"dataframe\">\n",
       "  <thead>\n",
       "    <tr style=\"text-align: right;\">\n",
       "      <th></th>\n",
       "      <th>Exited</th>\n",
       "      <th>Geography</th>\n",
       "      <th>count</th>\n",
       "    </tr>\n",
       "  </thead>\n",
       "  <tbody>\n",
       "    <tr>\n",
       "      <th>0</th>\n",
       "      <td>0</td>\n",
       "      <td>France</td>\n",
       "      <td>4204</td>\n",
       "    </tr>\n",
       "    <tr>\n",
       "      <th>1</th>\n",
       "      <td>0</td>\n",
       "      <td>Spain</td>\n",
       "      <td>2064</td>\n",
       "    </tr>\n",
       "    <tr>\n",
       "      <th>2</th>\n",
       "      <td>0</td>\n",
       "      <td>Germany</td>\n",
       "      <td>1695</td>\n",
       "    </tr>\n",
       "    <tr>\n",
       "      <th>3</th>\n",
       "      <td>1</td>\n",
       "      <td>Germany</td>\n",
       "      <td>814</td>\n",
       "    </tr>\n",
       "    <tr>\n",
       "      <th>4</th>\n",
       "      <td>1</td>\n",
       "      <td>France</td>\n",
       "      <td>810</td>\n",
       "    </tr>\n",
       "    <tr>\n",
       "      <th>5</th>\n",
       "      <td>1</td>\n",
       "      <td>Spain</td>\n",
       "      <td>413</td>\n",
       "    </tr>\n",
       "  </tbody>\n",
       "</table>\n",
       "</div>"
      ],
      "text/plain": [
       "   Exited Geography  count\n",
       "0       0    France   4204\n",
       "1       0     Spain   2064\n",
       "2       0   Germany   1695\n",
       "3       1   Germany    814\n",
       "4       1    France    810\n",
       "5       1     Spain    413"
      ]
     },
     "execution_count": 16,
     "metadata": {},
     "output_type": "execute_result"
    }
   ],
   "source": [
    "c = data.groupby(['Exited'])['Geography'].value_counts().to_frame().reset_index()\n",
    "c"
   ]
  },
  {
   "cell_type": "code",
   "execution_count": 17,
   "id": "34fb86cf",
   "metadata": {
    "execution": {
     "iopub.execute_input": "2023-10-24T13:54:38.548232Z",
     "iopub.status.busy": "2023-10-24T13:54:38.547382Z",
     "iopub.status.idle": "2023-10-24T13:54:38.857009Z",
     "shell.execute_reply": "2023-10-24T13:54:38.856022Z"
    },
    "papermill": {
     "duration": 0.333448,
     "end_time": "2023-10-24T13:54:38.859604",
     "exception": false,
     "start_time": "2023-10-24T13:54:38.526156",
     "status": "completed"
    },
    "tags": []
   },
   "outputs": [
    {
     "data": {
      "text/plain": [
       "<Axes: xlabel='Geography', ylabel='count'>"
      ]
     },
     "execution_count": 17,
     "metadata": {},
     "output_type": "execute_result"
    },
    {
     "data": {
      "image/png": "[encoded data removed]",
      "text/plain": [
       "<Figure size 640x480 with 1 Axes>"
      ]
     },
     "metadata": {},
     "output_type": "display_data"
    }
   ],
   "source": [
    "import seaborn as sns \n",
    "sns.countplot(x='Geography',data=data,hue='Exited')"
   ]
  },
  {
   "cell_type": "markdown",
   "id": "b21dfaa5",
   "metadata": {
    "execution": {
     "iopub.execute_input": "2023-10-22T15:31:29.389313Z",
     "iopub.status.busy": "2023-10-22T15:31:29.387864Z",
     "iopub.status.idle": "2023-10-22T15:31:29.394485Z",
     "shell.execute_reply": "2023-10-22T15:31:29.393279Z",
     "shell.execute_reply.started": "2023-10-22T15:31:29.389263Z"
    },
    "papermill": {
     "duration": 0.019396,
     "end_time": "2023-10-24T13:54:38.899086",
     "exception": false,
     "start_time": "2023-10-24T13:54:38.879690",
     "status": "completed"
    },
    "tags": []
   },
   "source": [
    "### Inference about below barplot \n",
    "#### Looks like no trend patterns follows in the Exited of customers along the Geography\n",
    "#### and If you note that Data Distribution is not normally balanced in the France "
   ]
  },
  {
   "cell_type": "code",
   "execution_count": 18,
   "id": "e545686e",
   "metadata": {
    "execution": {
     "iopub.execute_input": "2023-10-24T13:54:38.940090Z",
     "iopub.status.busy": "2023-10-24T13:54:38.939700Z",
     "iopub.status.idle": "2023-10-24T13:54:39.255350Z",
     "shell.execute_reply": "2023-10-24T13:54:39.254306Z"
    },
    "papermill": {
     "duration": 0.339079,
     "end_time": "2023-10-24T13:54:39.257896",
     "exception": false,
     "start_time": "2023-10-24T13:54:38.918817",
     "status": "completed"
    },
    "tags": []
   },
   "outputs": [
    {
     "data": {
      "text/plain": [
       "<Axes: xlabel='Geography', ylabel='count'>"
      ]
     },
     "execution_count": 18,
     "metadata": {},
     "output_type": "execute_result"
    },
    {
     "data": {
      "image/png": "[encoded data removed]",
      "text/plain": [
       "<Figure size 640x480 with 1 Axes>"
      ]
     },
     "metadata": {},
     "output_type": "display_data"
    }
   ],
   "source": [
    "sns.barplot(x='Geography',y='count',data=c,hue='Exited')"
   ]
  },
  {
   "cell_type": "code",
   "execution_count": 19,
   "id": "1d17e5ec",
   "metadata": {
    "execution": {
     "iopub.execute_input": "2023-10-24T13:54:39.299784Z",
     "iopub.status.busy": "2023-10-24T13:54:39.299181Z",
     "iopub.status.idle": "2023-10-24T13:54:39.567946Z",
     "shell.execute_reply": "2023-10-24T13:54:39.566798Z"
    },
    "papermill": {
     "duration": 0.292444,
     "end_time": "2023-10-24T13:54:39.570437",
     "exception": false,
     "start_time": "2023-10-24T13:54:39.277993",
     "status": "completed"
    },
    "tags": []
   },
   "outputs": [
    {
     "data": {
      "text/plain": [
       "<Axes: xlabel='Gender', ylabel='count'>"
      ]
     },
     "execution_count": 19,
     "metadata": {},
     "output_type": "execute_result"
    },
    {
     "data": {
      "image/png": "[encoded data removed]",
      "text/plain": [
       "<Figure size 640x480 with 1 Axes>"
      ]
     },
     "metadata": {},
     "output_type": "display_data"
    }
   ],
   "source": [
    "sns.countplot(x='Gender',data=data,hue='Exited')"
   ]
  },
  {
   "cell_type": "code",
   "execution_count": 20,
   "id": "9c814d88",
   "metadata": {
    "execution": {
     "iopub.execute_input": "2023-10-24T13:54:39.615784Z",
     "iopub.status.busy": "2023-10-24T13:54:39.615088Z",
     "iopub.status.idle": "2023-10-24T13:54:39.931103Z",
     "shell.execute_reply": "2023-10-24T13:54:39.930059Z"
    },
    "papermill": {
     "duration": 0.341511,
     "end_time": "2023-10-24T13:54:39.933639",
     "exception": false,
     "start_time": "2023-10-24T13:54:39.592128",
     "status": "completed"
    },
    "tags": []
   },
   "outputs": [
    {
     "data": {
      "text/plain": [
       "<Axes: xlabel='NumOfProducts', ylabel='count'>"
      ]
     },
     "execution_count": 20,
     "metadata": {},
     "output_type": "execute_result"
    },
    {
     "data": {
      "image/png": "[encoded data removed]",
      "text/plain": [
       "<Figure size 640x480 with 1 Axes>"
      ]
     },
     "metadata": {},
     "output_type": "display_data"
    }
   ],
   "source": [
    "sns.countplot(x='NumOfProducts',data=data,hue='Exited')"
   ]
  },
  {
   "cell_type": "code",
   "execution_count": 21,
   "id": "aab7e007",
   "metadata": {
    "execution": {
     "iopub.execute_input": "2023-10-24T13:54:39.978796Z",
     "iopub.status.busy": "2023-10-24T13:54:39.978370Z",
     "iopub.status.idle": "2023-10-24T13:54:40.248377Z",
     "shell.execute_reply": "2023-10-24T13:54:40.247206Z"
    },
    "papermill": {
     "duration": 0.296511,
     "end_time": "2023-10-24T13:54:40.251885",
     "exception": false,
     "start_time": "2023-10-24T13:54:39.955374",
     "status": "completed"
    },
    "tags": []
   },
   "outputs": [
    {
     "data": {
      "text/plain": [
       "<Axes: xlabel='HasCrCard', ylabel='count'>"
      ]
     },
     "execution_count": 21,
     "metadata": {},
     "output_type": "execute_result"
    },
    {
     "data": {
      "image/png": "[encoded data removed]",
      "text/plain": [
       "<Figure size 640x480 with 1 Axes>"
      ]
     },
     "metadata": {},
     "output_type": "display_data"
    }
   ],
   "source": [
    "sns.countplot(x='HasCrCard',data=data,hue='Exited')"
   ]
  },
  {
   "cell_type": "code",
   "execution_count": 22,
   "id": "61dee80f",
   "metadata": {
    "execution": {
     "iopub.execute_input": "2023-10-24T13:54:40.299119Z",
     "iopub.status.busy": "2023-10-24T13:54:40.298716Z",
     "iopub.status.idle": "2023-10-24T13:54:40.574370Z",
     "shell.execute_reply": "2023-10-24T13:54:40.573297Z"
    },
    "papermill": {
     "duration": 0.301507,
     "end_time": "2023-10-24T13:54:40.576699",
     "exception": false,
     "start_time": "2023-10-24T13:54:40.275192",
     "status": "completed"
    },
    "tags": []
   },
   "outputs": [
    {
     "data": {
      "text/plain": [
       "<Axes: xlabel='IsActiveMember', ylabel='count'>"
      ]
     },
     "execution_count": 22,
     "metadata": {},
     "output_type": "execute_result"
    },
    {
     "data": {
      "image/png": "[encoded data removed]",
      "text/plain": [
       "<Figure size 640x480 with 1 Axes>"
      ]
     },
     "metadata": {},
     "output_type": "display_data"
    }
   ],
   "source": [
    "sns.countplot(x='IsActiveMember',data=data,hue='Exited')"
   ]
  },
  {
   "cell_type": "code",
   "execution_count": 23,
   "id": "ece19109",
   "metadata": {
    "execution": {
     "iopub.execute_input": "2023-10-24T13:54:40.626244Z",
     "iopub.status.busy": "2023-10-24T13:54:40.625841Z",
     "iopub.status.idle": "2023-10-24T13:54:40.635941Z",
     "shell.execute_reply": "2023-10-24T13:54:40.634271Z"
    },
    "papermill": {
     "duration": 0.038694,
     "end_time": "2023-10-24T13:54:40.639242",
     "exception": false,
     "start_time": "2023-10-24T13:54:40.600548",
     "status": "completed"
    },
    "tags": []
   },
   "outputs": [
    {
     "data": {
      "text/plain": [
       "Age\n",
       "37    478\n",
       "38    477\n",
       "35    474\n",
       "36    456\n",
       "34    447\n",
       "     ... \n",
       "92      2\n",
       "82      1\n",
       "88      1\n",
       "85      1\n",
       "83      1\n",
       "Name: count, Length: 70, dtype: int64"
      ]
     },
     "execution_count": 23,
     "metadata": {},
     "output_type": "execute_result"
    }
   ],
   "source": [
    "data['Age'].value_counts()"
   ]
  },
  {
   "cell_type": "code",
   "execution_count": 24,
   "id": "091d544b",
   "metadata": {
    "execution": {
     "iopub.execute_input": "2023-10-24T13:54:40.699048Z",
     "iopub.status.busy": "2023-10-24T13:54:40.698441Z",
     "iopub.status.idle": "2023-10-24T13:54:41.342729Z",
     "shell.execute_reply": "2023-10-24T13:54:41.341493Z"
    },
    "papermill": {
     "duration": 0.677344,
     "end_time": "2023-10-24T13:54:41.345319",
     "exception": false,
     "start_time": "2023-10-24T13:54:40.667975",
     "status": "completed"
    },
    "tags": []
   },
   "outputs": [
    {
     "data": {
      "text/plain": [
       "<Axes: xlabel='Age', ylabel='Count'>"
      ]
     },
     "execution_count": 24,
     "metadata": {},
     "output_type": "execute_result"
    },
    {
     "data": {
      "image/png": "[encoded data removed]",
      "text/plain": [
       "<Figure size 640x480 with 1 Axes>"
      ]
     },
     "metadata": {},
     "output_type": "display_data"
    }
   ],
   "source": [
    "sns.histplot(x=data['Age'], bins=30,data=data, kde=True,hue='Exited')"
   ]
  },
  {
   "cell_type": "code",
   "execution_count": 25,
   "id": "029d296a",
   "metadata": {
    "execution": {
     "iopub.execute_input": "2023-10-24T13:54:41.394004Z",
     "iopub.status.busy": "2023-10-24T13:54:41.393163Z",
     "iopub.status.idle": "2023-10-24T13:54:41.933794Z",
     "shell.execute_reply": "2023-10-24T13:54:41.932726Z"
    },
    "papermill": {
     "duration": 0.568062,
     "end_time": "2023-10-24T13:54:41.936265",
     "exception": false,
     "start_time": "2023-10-24T13:54:41.368203",
     "status": "completed"
    },
    "tags": []
   },
   "outputs": [
    {
     "data": {
      "text/plain": [
       "<Axes: xlabel='Balance', ylabel='Count'>"
      ]
     },
     "execution_count": 25,
     "metadata": {},
     "output_type": "execute_result"
    },
    {
     "data": {
      "image/png": "[encoded data removed]",
      "text/plain": [
       "<Figure size 640x480 with 1 Axes>"
      ]
     },
     "metadata": {},
     "output_type": "display_data"
    }
   ],
   "source": [
    "sns.histplot(x=data['Balance'], bins=30,data=data, kde=True,hue='Exited')"
   ]
  },
  {
   "cell_type": "code",
   "execution_count": 26,
   "id": "e712de3c",
   "metadata": {
    "execution": {
     "iopub.execute_input": "2023-10-24T13:54:41.986014Z",
     "iopub.status.busy": "2023-10-24T13:54:41.984982Z",
     "iopub.status.idle": "2023-10-24T13:54:41.994527Z",
     "shell.execute_reply": "2023-10-24T13:54:41.993549Z"
    },
    "papermill": {
     "duration": 0.036939,
     "end_time": "2023-10-24T13:54:41.996666",
     "exception": false,
     "start_time": "2023-10-24T13:54:41.959727",
     "status": "completed"
    },
    "tags": []
   },
   "outputs": [
    {
     "data": {
      "text/plain": [
       "Tenure\n",
       "2     1048\n",
       "1     1035\n",
       "7     1028\n",
       "8     1025\n",
       "5     1012\n",
       "3     1009\n",
       "4      989\n",
       "9      984\n",
       "6      967\n",
       "10     490\n",
       "0      413\n",
       "Name: count, dtype: int64"
      ]
     },
     "execution_count": 26,
     "metadata": {},
     "output_type": "execute_result"
    }
   ],
   "source": [
    "data['Tenure'].value_counts()"
   ]
  },
  {
   "cell_type": "code",
   "execution_count": 27,
   "id": "f1f1b4db",
   "metadata": {
    "execution": {
     "iopub.execute_input": "2023-10-24T13:54:42.047006Z",
     "iopub.status.busy": "2023-10-24T13:54:42.046294Z",
     "iopub.status.idle": "2023-10-24T13:54:42.390181Z",
     "shell.execute_reply": "2023-10-24T13:54:42.388980Z"
    },
    "papermill": {
     "duration": 0.371934,
     "end_time": "2023-10-24T13:54:42.392852",
     "exception": false,
     "start_time": "2023-10-24T13:54:42.020918",
     "status": "completed"
    },
    "tags": []
   },
   "outputs": [
    {
     "data": {
      "text/plain": [
       "<Axes: xlabel='Tenure', ylabel='count'>"
      ]
     },
     "execution_count": 27,
     "metadata": {},
     "output_type": "execute_result"
    },
    {
     "data": {
      "image/png": "[encoded data removed]",
      "text/plain": [
       "<Figure size 640x480 with 1 Axes>"
      ]
     },
     "metadata": {},
     "output_type": "display_data"
    }
   ],
   "source": [
    "sns.countplot(x='Tenure',data=data,hue='Exited')"
   ]
  },
  {
   "cell_type": "markdown",
   "id": "eadb5610",
   "metadata": {
    "papermill": {
     "duration": 0.024789,
     "end_time": "2023-10-24T13:54:42.443189",
     "exception": false,
     "start_time": "2023-10-24T13:54:42.418400",
     "status": "completed"
    },
    "tags": []
   },
   "source": [
    "### Inference on the Above Visualization\n",
    "## No trends or patterns followed in the Customer Churn\n"
   ]
  },
  {
   "cell_type": "markdown",
   "id": "fc524e1e",
   "metadata": {
    "execution": {
     "iopub.execute_input": "2023-10-22T16:57:14.346863Z",
     "iopub.status.busy": "2023-10-22T16:57:14.346324Z",
     "iopub.status.idle": "2023-10-22T16:57:14.355272Z",
     "shell.execute_reply": "2023-10-22T16:57:14.353271Z",
     "shell.execute_reply.started": "2023-10-22T16:57:14.346818Z"
    },
    "papermill": {
     "duration": 0.023736,
     "end_time": "2023-10-24T13:54:42.493469",
     "exception": false,
     "start_time": "2023-10-24T13:54:42.469733",
     "status": "completed"
    },
    "tags": []
   },
   "source": [
    "<a id=\"3\"></a> <br>\n",
    "## Data Cleansing and Prepping"
   ]
  },
  {
   "cell_type": "code",
   "execution_count": 28,
   "id": "d9c7d80e",
   "metadata": {
    "execution": {
     "iopub.execute_input": "2023-10-24T13:54:42.543948Z",
     "iopub.status.busy": "2023-10-24T13:54:42.542832Z",
     "iopub.status.idle": "2023-10-24T13:54:42.552599Z",
     "shell.execute_reply": "2023-10-24T13:54:42.551493Z"
    },
    "papermill": {
     "duration": 0.037118,
     "end_time": "2023-10-24T13:54:42.554791",
     "exception": false,
     "start_time": "2023-10-24T13:54:42.517673",
     "status": "completed"
    },
    "tags": []
   },
   "outputs": [
    {
     "data": {
      "text/plain": [
       "CreditScore          int64\n",
       "Geography           object\n",
       "Gender              object\n",
       "Age                  int64\n",
       "Tenure               int64\n",
       "Balance            float64\n",
       "NumOfProducts        int64\n",
       "HasCrCard            int64\n",
       "IsActiveMember       int64\n",
       "EstimatedSalary    float64\n",
       "Exited               int64\n",
       "dtype: object"
      ]
     },
     "execution_count": 28,
     "metadata": {},
     "output_type": "execute_result"
    }
   ],
   "source": [
    "# Check the Datatypes of columns\n",
    "data.dtypes"
   ]
  },
  {
   "cell_type": "code",
   "execution_count": 29,
   "id": "902ac2b5",
   "metadata": {
    "execution": {
     "iopub.execute_input": "2023-10-24T13:54:42.606102Z",
     "iopub.status.busy": "2023-10-24T13:54:42.605675Z",
     "iopub.status.idle": "2023-10-24T13:54:42.612588Z",
     "shell.execute_reply": "2023-10-24T13:54:42.611283Z"
    },
    "papermill": {
     "duration": 0.03552,
     "end_time": "2023-10-24T13:54:42.615210",
     "exception": false,
     "start_time": "2023-10-24T13:54:42.579690",
     "status": "completed"
    },
    "tags": []
   },
   "outputs": [],
   "source": [
    "data['HasCrCard'] = data['HasCrCard'].astype('object')"
   ]
  },
  {
   "cell_type": "code",
   "execution_count": 30,
   "id": "54b8b1a5",
   "metadata": {
    "execution": {
     "iopub.execute_input": "2023-10-24T13:54:42.665992Z",
     "iopub.status.busy": "2023-10-24T13:54:42.665602Z",
     "iopub.status.idle": "2023-10-24T13:54:42.675367Z",
     "shell.execute_reply": "2023-10-24T13:54:42.674306Z"
    },
    "papermill": {
     "duration": 0.037707,
     "end_time": "2023-10-24T13:54:42.677560",
     "exception": false,
     "start_time": "2023-10-24T13:54:42.639853",
     "status": "completed"
    },
    "tags": []
   },
   "outputs": [
    {
     "data": {
      "text/plain": [
       "CreditScore          int64\n",
       "Geography           object\n",
       "Gender              object\n",
       "Age                  int64\n",
       "Tenure               int64\n",
       "Balance            float64\n",
       "NumOfProducts        int64\n",
       "HasCrCard           object\n",
       "IsActiveMember      object\n",
       "EstimatedSalary    float64\n",
       "Exited               int64\n",
       "dtype: object"
      ]
     },
     "execution_count": 30,
     "metadata": {},
     "output_type": "execute_result"
    }
   ],
   "source": [
    "data['IsActiveMember'] = data['IsActiveMember'].astype('object')\n",
    "data.dtypes"
   ]
  },
  {
   "cell_type": "code",
   "execution_count": 31,
   "id": "b2da3a17",
   "metadata": {
    "execution": {
     "iopub.execute_input": "2023-10-24T13:54:42.728441Z",
     "iopub.status.busy": "2023-10-24T13:54:42.728003Z",
     "iopub.status.idle": "2023-10-24T13:54:42.737337Z",
     "shell.execute_reply": "2023-10-24T13:54:42.736533Z"
    },
    "papermill": {
     "duration": 0.037092,
     "end_time": "2023-10-24T13:54:42.739218",
     "exception": false,
     "start_time": "2023-10-24T13:54:42.702126",
     "status": "completed"
    },
    "tags": []
   },
   "outputs": [
    {
     "data": {
      "text/plain": [
       "CreditScore          int64\n",
       "Geography           object\n",
       "Gender              object\n",
       "Age                  int64\n",
       "Tenure               int64\n",
       "Balance            float64\n",
       "NumOfProducts        int64\n",
       "HasCrCard           object\n",
       "IsActiveMember      object\n",
       "EstimatedSalary    float64\n",
       "Exited              object\n",
       "dtype: object"
      ]
     },
     "execution_count": 31,
     "metadata": {},
     "output_type": "execute_result"
    }
   ],
   "source": [
    "data['Exited'] = data['Exited'].astype('object')\n",
    "data.dtypes"
   ]
  },
  {
   "cell_type": "code",
   "execution_count": 32,
   "id": "3feece0d",
   "metadata": {
    "execution": {
     "iopub.execute_input": "2023-10-24T13:54:42.790776Z",
     "iopub.status.busy": "2023-10-24T13:54:42.790406Z",
     "iopub.status.idle": "2023-10-24T13:54:42.962427Z",
     "shell.execute_reply": "2023-10-24T13:54:42.961147Z"
    },
    "papermill": {
     "duration": 0.200829,
     "end_time": "2023-10-24T13:54:42.964684",
     "exception": false,
     "start_time": "2023-10-24T13:54:42.763855",
     "status": "completed"
    },
    "tags": []
   },
   "outputs": [
    {
     "data": {
      "text/html": [
       "<div>\n",
       "<style scoped>\n",
       "    .dataframe tbody tr th:only-of-type {\n",
       "        vertical-align: middle;\n",
       "    }\n",
       "\n",
       "    .dataframe tbody tr th {\n",
       "        vertical-align: top;\n",
       "    }\n",
       "\n",
       "    .dataframe thead th {\n",
       "        text-align: right;\n",
       "    }\n",
       "</style>\n",
       "<table border=\"1\" class=\"dataframe\">\n",
       "  <thead>\n",
       "    <tr style=\"text-align: right;\">\n",
       "      <th></th>\n",
       "      <th>CreditScore</th>\n",
       "      <th>Geography</th>\n",
       "      <th>Gender</th>\n",
       "      <th>Age</th>\n",
       "      <th>Tenure</th>\n",
       "      <th>Balance</th>\n",
       "      <th>NumOfProducts</th>\n",
       "      <th>HasCrCard</th>\n",
       "      <th>IsActiveMember</th>\n",
       "      <th>EstimatedSalary</th>\n",
       "      <th>Exited</th>\n",
       "    </tr>\n",
       "  </thead>\n",
       "  <tbody>\n",
       "    <tr>\n",
       "      <th>0</th>\n",
       "      <td>-0.326221</td>\n",
       "      <td>France</td>\n",
       "      <td>Female</td>\n",
       "      <td>0.293517</td>\n",
       "      <td>2</td>\n",
       "      <td>-1.225848</td>\n",
       "      <td>1</td>\n",
       "      <td>1</td>\n",
       "      <td>1</td>\n",
       "      <td>0.021886</td>\n",
       "      <td>1</td>\n",
       "    </tr>\n",
       "    <tr>\n",
       "      <th>1</th>\n",
       "      <td>-0.440036</td>\n",
       "      <td>Spain</td>\n",
       "      <td>Female</td>\n",
       "      <td>0.198164</td>\n",
       "      <td>1</td>\n",
       "      <td>0.117350</td>\n",
       "      <td>1</td>\n",
       "      <td>0</td>\n",
       "      <td>1</td>\n",
       "      <td>0.216534</td>\n",
       "      <td>0</td>\n",
       "    </tr>\n",
       "    <tr>\n",
       "      <th>2</th>\n",
       "      <td>-1.536794</td>\n",
       "      <td>France</td>\n",
       "      <td>Female</td>\n",
       "      <td>0.293517</td>\n",
       "      <td>8</td>\n",
       "      <td>1.333053</td>\n",
       "      <td>3</td>\n",
       "      <td>1</td>\n",
       "      <td>0</td>\n",
       "      <td>0.240687</td>\n",
       "      <td>1</td>\n",
       "    </tr>\n",
       "    <tr>\n",
       "      <th>3</th>\n",
       "      <td>0.501521</td>\n",
       "      <td>France</td>\n",
       "      <td>Female</td>\n",
       "      <td>0.007457</td>\n",
       "      <td>1</td>\n",
       "      <td>-1.225848</td>\n",
       "      <td>2</td>\n",
       "      <td>0</td>\n",
       "      <td>0</td>\n",
       "      <td>-0.108918</td>\n",
       "      <td>0</td>\n",
       "    </tr>\n",
       "    <tr>\n",
       "      <th>4</th>\n",
       "      <td>2.063884</td>\n",
       "      <td>Spain</td>\n",
       "      <td>Female</td>\n",
       "      <td>0.388871</td>\n",
       "      <td>2</td>\n",
       "      <td>0.785728</td>\n",
       "      <td>1</td>\n",
       "      <td>1</td>\n",
       "      <td>1</td>\n",
       "      <td>-0.365276</td>\n",
       "      <td>0</td>\n",
       "    </tr>\n",
       "    <tr>\n",
       "      <th>...</th>\n",
       "      <td>...</td>\n",
       "      <td>...</td>\n",
       "      <td>...</td>\n",
       "      <td>...</td>\n",
       "      <td>...</td>\n",
       "      <td>...</td>\n",
       "      <td>...</td>\n",
       "      <td>...</td>\n",
       "      <td>...</td>\n",
       "      <td>...</td>\n",
       "      <td>...</td>\n",
       "    </tr>\n",
       "    <tr>\n",
       "      <th>9995</th>\n",
       "      <td>1.246488</td>\n",
       "      <td>France</td>\n",
       "      <td>Male</td>\n",
       "      <td>0.007457</td>\n",
       "      <td>5</td>\n",
       "      <td>-1.225848</td>\n",
       "      <td>2</td>\n",
       "      <td>1</td>\n",
       "      <td>0</td>\n",
       "      <td>-0.066419</td>\n",
       "      <td>0</td>\n",
       "    </tr>\n",
       "    <tr>\n",
       "      <th>9996</th>\n",
       "      <td>-1.391939</td>\n",
       "      <td>France</td>\n",
       "      <td>Male</td>\n",
       "      <td>-0.373958</td>\n",
       "      <td>10</td>\n",
       "      <td>-0.306379</td>\n",
       "      <td>1</td>\n",
       "      <td>1</td>\n",
       "      <td>1</td>\n",
       "      <td>0.027988</td>\n",
       "      <td>0</td>\n",
       "    </tr>\n",
       "    <tr>\n",
       "      <th>9997</th>\n",
       "      <td>0.604988</td>\n",
       "      <td>France</td>\n",
       "      <td>Female</td>\n",
       "      <td>-0.278604</td>\n",
       "      <td>7</td>\n",
       "      <td>-1.225848</td>\n",
       "      <td>1</td>\n",
       "      <td>0</td>\n",
       "      <td>1</td>\n",
       "      <td>-1.008643</td>\n",
       "      <td>1</td>\n",
       "    </tr>\n",
       "    <tr>\n",
       "      <th>9998</th>\n",
       "      <td>1.256835</td>\n",
       "      <td>Germany</td>\n",
       "      <td>Male</td>\n",
       "      <td>0.293517</td>\n",
       "      <td>3</td>\n",
       "      <td>-0.022608</td>\n",
       "      <td>2</td>\n",
       "      <td>1</td>\n",
       "      <td>0</td>\n",
       "      <td>-0.125231</td>\n",
       "      <td>1</td>\n",
       "    </tr>\n",
       "    <tr>\n",
       "      <th>9999</th>\n",
       "      <td>1.463771</td>\n",
       "      <td>France</td>\n",
       "      <td>Female</td>\n",
       "      <td>-1.041433</td>\n",
       "      <td>4</td>\n",
       "      <td>0.859965</td>\n",
       "      <td>1</td>\n",
       "      <td>1</td>\n",
       "      <td>0</td>\n",
       "      <td>-1.076370</td>\n",
       "      <td>0</td>\n",
       "    </tr>\n",
       "  </tbody>\n",
       "</table>\n",
       "<p>10000 rows × 11 columns</p>\n",
       "</div>"
      ],
      "text/plain": [
       "      CreditScore Geography  Gender       Age  Tenure   Balance  \\\n",
       "0       -0.326221    France  Female  0.293517       2 -1.225848   \n",
       "1       -0.440036     Spain  Female  0.198164       1  0.117350   \n",
       "2       -1.536794    France  Female  0.293517       8  1.333053   \n",
       "3        0.501521    France  Female  0.007457       1 -1.225848   \n",
       "4        2.063884     Spain  Female  0.388871       2  0.785728   \n",
       "...           ...       ...     ...       ...     ...       ...   \n",
       "9995     1.246488    France    Male  0.007457       5 -1.225848   \n",
       "9996    -1.391939    France    Male -0.373958      10 -0.306379   \n",
       "9997     0.604988    France  Female -0.278604       7 -1.225848   \n",
       "9998     1.256835   Germany    Male  0.293517       3 -0.022608   \n",
       "9999     1.463771    France  Female -1.041433       4  0.859965   \n",
       "\n",
       "      NumOfProducts HasCrCard IsActiveMember  EstimatedSalary Exited  \n",
       "0                 1         1              1         0.021886      1  \n",
       "1                 1         0              1         0.216534      0  \n",
       "2                 3         1              0         0.240687      1  \n",
       "3                 2         0              0        -0.108918      0  \n",
       "4                 1         1              1        -0.365276      0  \n",
       "...             ...       ...            ...              ...    ...  \n",
       "9995              2         1              0        -0.066419      0  \n",
       "9996              1         1              1         0.027988      0  \n",
       "9997              1         0              1        -1.008643      1  \n",
       "9998              2         1              0        -0.125231      1  \n",
       "9999              1         1              0        -1.076370      0  \n",
       "\n",
       "[10000 rows x 11 columns]"
      ]
     },
     "execution_count": 32,
     "metadata": {},
     "output_type": "execute_result"
    }
   ],
   "source": [
    "# Data Preprocessing \n",
    "from sklearn.preprocessing import StandardScaler\n",
    "sc = StandardScaler()\n",
    "data[['CreditScore', 'Age', 'Balance', 'EstimatedSalary']] = sc.fit_transform(data[['CreditScore', 'Age', 'Balance', 'EstimatedSalary']])\n",
    "data"
   ]
  },
  {
   "cell_type": "markdown",
   "id": "5528a722",
   "metadata": {
    "papermill": {
     "duration": 0.024862,
     "end_time": "2023-10-24T13:54:43.014319",
     "exception": false,
     "start_time": "2023-10-24T13:54:42.989457",
     "status": "completed"
    },
    "tags": []
   },
   "source": [
    "\n",
    "<a id=\"4\"></a> <br>\n",
    "## Label Encoding"
   ]
  },
  {
   "cell_type": "code",
   "execution_count": 33,
   "id": "f8a13208",
   "metadata": {
    "execution": {
     "iopub.execute_input": "2023-10-24T13:54:43.065017Z",
     "iopub.status.busy": "2023-10-24T13:54:43.064572Z",
     "iopub.status.idle": "2023-10-24T13:54:43.095643Z",
     "shell.execute_reply": "2023-10-24T13:54:43.094578Z"
    },
    "papermill": {
     "duration": 0.058956,
     "end_time": "2023-10-24T13:54:43.097802",
     "exception": false,
     "start_time": "2023-10-24T13:54:43.038846",
     "status": "completed"
    },
    "tags": []
   },
   "outputs": [
    {
     "data": {
      "text/html": [
       "<div>\n",
       "<style scoped>\n",
       "    .dataframe tbody tr th:only-of-type {\n",
       "        vertical-align: middle;\n",
       "    }\n",
       "\n",
       "    .dataframe tbody tr th {\n",
       "        vertical-align: top;\n",
       "    }\n",
       "\n",
       "    .dataframe thead th {\n",
       "        text-align: right;\n",
       "    }\n",
       "</style>\n",
       "<table border=\"1\" class=\"dataframe\">\n",
       "  <thead>\n",
       "    <tr style=\"text-align: right;\">\n",
       "      <th></th>\n",
       "      <th>CreditScore</th>\n",
       "      <th>Age</th>\n",
       "      <th>Tenure</th>\n",
       "      <th>Balance</th>\n",
       "      <th>NumOfProducts</th>\n",
       "      <th>HasCrCard</th>\n",
       "      <th>IsActiveMember</th>\n",
       "      <th>EstimatedSalary</th>\n",
       "      <th>Exited</th>\n",
       "      <th>Geography_Germany</th>\n",
       "      <th>Geography_Spain</th>\n",
       "      <th>Gender_Male</th>\n",
       "    </tr>\n",
       "  </thead>\n",
       "  <tbody>\n",
       "    <tr>\n",
       "      <th>0</th>\n",
       "      <td>-0.326221</td>\n",
       "      <td>0.293517</td>\n",
       "      <td>2</td>\n",
       "      <td>-1.225848</td>\n",
       "      <td>1</td>\n",
       "      <td>1</td>\n",
       "      <td>1</td>\n",
       "      <td>0.021886</td>\n",
       "      <td>1</td>\n",
       "      <td>False</td>\n",
       "      <td>False</td>\n",
       "      <td>False</td>\n",
       "    </tr>\n",
       "    <tr>\n",
       "      <th>1</th>\n",
       "      <td>-0.440036</td>\n",
       "      <td>0.198164</td>\n",
       "      <td>1</td>\n",
       "      <td>0.117350</td>\n",
       "      <td>1</td>\n",
       "      <td>0</td>\n",
       "      <td>1</td>\n",
       "      <td>0.216534</td>\n",
       "      <td>0</td>\n",
       "      <td>False</td>\n",
       "      <td>True</td>\n",
       "      <td>False</td>\n",
       "    </tr>\n",
       "    <tr>\n",
       "      <th>2</th>\n",
       "      <td>-1.536794</td>\n",
       "      <td>0.293517</td>\n",
       "      <td>8</td>\n",
       "      <td>1.333053</td>\n",
       "      <td>3</td>\n",
       "      <td>1</td>\n",
       "      <td>0</td>\n",
       "      <td>0.240687</td>\n",
       "      <td>1</td>\n",
       "      <td>False</td>\n",
       "      <td>False</td>\n",
       "      <td>False</td>\n",
       "    </tr>\n",
       "    <tr>\n",
       "      <th>3</th>\n",
       "      <td>0.501521</td>\n",
       "      <td>0.007457</td>\n",
       "      <td>1</td>\n",
       "      <td>-1.225848</td>\n",
       "      <td>2</td>\n",
       "      <td>0</td>\n",
       "      <td>0</td>\n",
       "      <td>-0.108918</td>\n",
       "      <td>0</td>\n",
       "      <td>False</td>\n",
       "      <td>False</td>\n",
       "      <td>False</td>\n",
       "    </tr>\n",
       "    <tr>\n",
       "      <th>4</th>\n",
       "      <td>2.063884</td>\n",
       "      <td>0.388871</td>\n",
       "      <td>2</td>\n",
       "      <td>0.785728</td>\n",
       "      <td>1</td>\n",
       "      <td>1</td>\n",
       "      <td>1</td>\n",
       "      <td>-0.365276</td>\n",
       "      <td>0</td>\n",
       "      <td>False</td>\n",
       "      <td>True</td>\n",
       "      <td>False</td>\n",
       "    </tr>\n",
       "    <tr>\n",
       "      <th>...</th>\n",
       "      <td>...</td>\n",
       "      <td>...</td>\n",
       "      <td>...</td>\n",
       "      <td>...</td>\n",
       "      <td>...</td>\n",
       "      <td>...</td>\n",
       "      <td>...</td>\n",
       "      <td>...</td>\n",
       "      <td>...</td>\n",
       "      <td>...</td>\n",
       "      <td>...</td>\n",
       "      <td>...</td>\n",
       "    </tr>\n",
       "    <tr>\n",
       "      <th>9995</th>\n",
       "      <td>1.246488</td>\n",
       "      <td>0.007457</td>\n",
       "      <td>5</td>\n",
       "      <td>-1.225848</td>\n",
       "      <td>2</td>\n",
       "      <td>1</td>\n",
       "      <td>0</td>\n",
       "      <td>-0.066419</td>\n",
       "      <td>0</td>\n",
       "      <td>False</td>\n",
       "      <td>False</td>\n",
       "      <td>True</td>\n",
       "    </tr>\n",
       "    <tr>\n",
       "      <th>9996</th>\n",
       "      <td>-1.391939</td>\n",
       "      <td>-0.373958</td>\n",
       "      <td>10</td>\n",
       "      <td>-0.306379</td>\n",
       "      <td>1</td>\n",
       "      <td>1</td>\n",
       "      <td>1</td>\n",
       "      <td>0.027988</td>\n",
       "      <td>0</td>\n",
       "      <td>False</td>\n",
       "      <td>False</td>\n",
       "      <td>True</td>\n",
       "    </tr>\n",
       "    <tr>\n",
       "      <th>9997</th>\n",
       "      <td>0.604988</td>\n",
       "      <td>-0.278604</td>\n",
       "      <td>7</td>\n",
       "      <td>-1.225848</td>\n",
       "      <td>1</td>\n",
       "      <td>0</td>\n",
       "      <td>1</td>\n",
       "      <td>-1.008643</td>\n",
       "      <td>1</td>\n",
       "      <td>False</td>\n",
       "      <td>False</td>\n",
       "      <td>False</td>\n",
       "    </tr>\n",
       "    <tr>\n",
       "      <th>9998</th>\n",
       "      <td>1.256835</td>\n",
       "      <td>0.293517</td>\n",
       "      <td>3</td>\n",
       "      <td>-0.022608</td>\n",
       "      <td>2</td>\n",
       "      <td>1</td>\n",
       "      <td>0</td>\n",
       "      <td>-0.125231</td>\n",
       "      <td>1</td>\n",
       "      <td>True</td>\n",
       "      <td>False</td>\n",
       "      <td>True</td>\n",
       "    </tr>\n",
       "    <tr>\n",
       "      <th>9999</th>\n",
       "      <td>1.463771</td>\n",
       "      <td>-1.041433</td>\n",
       "      <td>4</td>\n",
       "      <td>0.859965</td>\n",
       "      <td>1</td>\n",
       "      <td>1</td>\n",
       "      <td>0</td>\n",
       "      <td>-1.076370</td>\n",
       "      <td>0</td>\n",
       "      <td>False</td>\n",
       "      <td>False</td>\n",
       "      <td>False</td>\n",
       "    </tr>\n",
       "  </tbody>\n",
       "</table>\n",
       "<p>10000 rows × 12 columns</p>\n",
       "</div>"
      ],
      "text/plain": [
       "      CreditScore       Age  Tenure   Balance  NumOfProducts HasCrCard  \\\n",
       "0       -0.326221  0.293517       2 -1.225848              1         1   \n",
       "1       -0.440036  0.198164       1  0.117350              1         0   \n",
       "2       -1.536794  0.293517       8  1.333053              3         1   \n",
       "3        0.501521  0.007457       1 -1.225848              2         0   \n",
       "4        2.063884  0.388871       2  0.785728              1         1   \n",
       "...           ...       ...     ...       ...            ...       ...   \n",
       "9995     1.246488  0.007457       5 -1.225848              2         1   \n",
       "9996    -1.391939 -0.373958      10 -0.306379              1         1   \n",
       "9997     0.604988 -0.278604       7 -1.225848              1         0   \n",
       "9998     1.256835  0.293517       3 -0.022608              2         1   \n",
       "9999     1.463771 -1.041433       4  0.859965              1         1   \n",
       "\n",
       "     IsActiveMember  EstimatedSalary Exited  Geography_Germany  \\\n",
       "0                 1         0.021886      1              False   \n",
       "1                 1         0.216534      0              False   \n",
       "2                 0         0.240687      1              False   \n",
       "3                 0        -0.108918      0              False   \n",
       "4                 1        -0.365276      0              False   \n",
       "...             ...              ...    ...                ...   \n",
       "9995              0        -0.066419      0              False   \n",
       "9996              1         0.027988      0              False   \n",
       "9997              1        -1.008643      1              False   \n",
       "9998              0        -0.125231      1               True   \n",
       "9999              0        -1.076370      0              False   \n",
       "\n",
       "      Geography_Spain  Gender_Male  \n",
       "0               False        False  \n",
       "1                True        False  \n",
       "2               False        False  \n",
       "3               False        False  \n",
       "4                True        False  \n",
       "...               ...          ...  \n",
       "9995            False         True  \n",
       "9996            False         True  \n",
       "9997            False        False  \n",
       "9998            False         True  \n",
       "9999            False        False  \n",
       "\n",
       "[10000 rows x 12 columns]"
      ]
     },
     "execution_count": 33,
     "metadata": {},
     "output_type": "execute_result"
    }
   ],
   "source": [
    "data = pd.get_dummies(data, columns=['Geography', 'Gender'], drop_first=True)\n",
    "data"
   ]
  },
  {
   "cell_type": "code",
   "execution_count": 34,
   "id": "32d1fafe",
   "metadata": {
    "execution": {
     "iopub.execute_input": "2023-10-24T13:54:43.149840Z",
     "iopub.status.busy": "2023-10-24T13:54:43.149442Z",
     "iopub.status.idle": "2023-10-24T13:54:43.176692Z",
     "shell.execute_reply": "2023-10-24T13:54:43.175505Z"
    },
    "papermill": {
     "duration": 0.055243,
     "end_time": "2023-10-24T13:54:43.178731",
     "exception": false,
     "start_time": "2023-10-24T13:54:43.123488",
     "status": "completed"
    },
    "tags": []
   },
   "outputs": [
    {
     "data": {
      "text/html": [
       "<div>\n",
       "<style scoped>\n",
       "    .dataframe tbody tr th:only-of-type {\n",
       "        vertical-align: middle;\n",
       "    }\n",
       "\n",
       "    .dataframe tbody tr th {\n",
       "        vertical-align: top;\n",
       "    }\n",
       "\n",
       "    .dataframe thead th {\n",
       "        text-align: right;\n",
       "    }\n",
       "</style>\n",
       "<table border=\"1\" class=\"dataframe\">\n",
       "  <thead>\n",
       "    <tr style=\"text-align: right;\">\n",
       "      <th></th>\n",
       "      <th>CreditScore</th>\n",
       "      <th>Age</th>\n",
       "      <th>Tenure</th>\n",
       "      <th>Balance</th>\n",
       "      <th>NumOfProducts</th>\n",
       "      <th>HasCrCard</th>\n",
       "      <th>IsActiveMember</th>\n",
       "      <th>EstimatedSalary</th>\n",
       "      <th>Exited</th>\n",
       "      <th>Geography_Germany</th>\n",
       "      <th>Geography_Spain</th>\n",
       "      <th>Gender_Male</th>\n",
       "    </tr>\n",
       "  </thead>\n",
       "  <tbody>\n",
       "    <tr>\n",
       "      <th>0</th>\n",
       "      <td>-0.326221</td>\n",
       "      <td>0.293517</td>\n",
       "      <td>2</td>\n",
       "      <td>-1.225848</td>\n",
       "      <td>1</td>\n",
       "      <td>1</td>\n",
       "      <td>1</td>\n",
       "      <td>0.021886</td>\n",
       "      <td>1</td>\n",
       "      <td>0</td>\n",
       "      <td>0</td>\n",
       "      <td>0</td>\n",
       "    </tr>\n",
       "    <tr>\n",
       "      <th>1</th>\n",
       "      <td>-0.440036</td>\n",
       "      <td>0.198164</td>\n",
       "      <td>1</td>\n",
       "      <td>0.117350</td>\n",
       "      <td>1</td>\n",
       "      <td>0</td>\n",
       "      <td>1</td>\n",
       "      <td>0.216534</td>\n",
       "      <td>0</td>\n",
       "      <td>0</td>\n",
       "      <td>1</td>\n",
       "      <td>0</td>\n",
       "    </tr>\n",
       "    <tr>\n",
       "      <th>2</th>\n",
       "      <td>-1.536794</td>\n",
       "      <td>0.293517</td>\n",
       "      <td>8</td>\n",
       "      <td>1.333053</td>\n",
       "      <td>3</td>\n",
       "      <td>1</td>\n",
       "      <td>0</td>\n",
       "      <td>0.240687</td>\n",
       "      <td>1</td>\n",
       "      <td>0</td>\n",
       "      <td>0</td>\n",
       "      <td>0</td>\n",
       "    </tr>\n",
       "    <tr>\n",
       "      <th>3</th>\n",
       "      <td>0.501521</td>\n",
       "      <td>0.007457</td>\n",
       "      <td>1</td>\n",
       "      <td>-1.225848</td>\n",
       "      <td>2</td>\n",
       "      <td>0</td>\n",
       "      <td>0</td>\n",
       "      <td>-0.108918</td>\n",
       "      <td>0</td>\n",
       "      <td>0</td>\n",
       "      <td>0</td>\n",
       "      <td>0</td>\n",
       "    </tr>\n",
       "    <tr>\n",
       "      <th>4</th>\n",
       "      <td>2.063884</td>\n",
       "      <td>0.388871</td>\n",
       "      <td>2</td>\n",
       "      <td>0.785728</td>\n",
       "      <td>1</td>\n",
       "      <td>1</td>\n",
       "      <td>1</td>\n",
       "      <td>-0.365276</td>\n",
       "      <td>0</td>\n",
       "      <td>0</td>\n",
       "      <td>1</td>\n",
       "      <td>0</td>\n",
       "    </tr>\n",
       "    <tr>\n",
       "      <th>...</th>\n",
       "      <td>...</td>\n",
       "      <td>...</td>\n",
       "      <td>...</td>\n",
       "      <td>...</td>\n",
       "      <td>...</td>\n",
       "      <td>...</td>\n",
       "      <td>...</td>\n",
       "      <td>...</td>\n",
       "      <td>...</td>\n",
       "      <td>...</td>\n",
       "      <td>...</td>\n",
       "      <td>...</td>\n",
       "    </tr>\n",
       "    <tr>\n",
       "      <th>9995</th>\n",
       "      <td>1.246488</td>\n",
       "      <td>0.007457</td>\n",
       "      <td>5</td>\n",
       "      <td>-1.225848</td>\n",
       "      <td>2</td>\n",
       "      <td>1</td>\n",
       "      <td>0</td>\n",
       "      <td>-0.066419</td>\n",
       "      <td>0</td>\n",
       "      <td>0</td>\n",
       "      <td>0</td>\n",
       "      <td>1</td>\n",
       "    </tr>\n",
       "    <tr>\n",
       "      <th>9996</th>\n",
       "      <td>-1.391939</td>\n",
       "      <td>-0.373958</td>\n",
       "      <td>10</td>\n",
       "      <td>-0.306379</td>\n",
       "      <td>1</td>\n",
       "      <td>1</td>\n",
       "      <td>1</td>\n",
       "      <td>0.027988</td>\n",
       "      <td>0</td>\n",
       "      <td>0</td>\n",
       "      <td>0</td>\n",
       "      <td>1</td>\n",
       "    </tr>\n",
       "    <tr>\n",
       "      <th>9997</th>\n",
       "      <td>0.604988</td>\n",
       "      <td>-0.278604</td>\n",
       "      <td>7</td>\n",
       "      <td>-1.225848</td>\n",
       "      <td>1</td>\n",
       "      <td>0</td>\n",
       "      <td>1</td>\n",
       "      <td>-1.008643</td>\n",
       "      <td>1</td>\n",
       "      <td>0</td>\n",
       "      <td>0</td>\n",
       "      <td>0</td>\n",
       "    </tr>\n",
       "    <tr>\n",
       "      <th>9998</th>\n",
       "      <td>1.256835</td>\n",
       "      <td>0.293517</td>\n",
       "      <td>3</td>\n",
       "      <td>-0.022608</td>\n",
       "      <td>2</td>\n",
       "      <td>1</td>\n",
       "      <td>0</td>\n",
       "      <td>-0.125231</td>\n",
       "      <td>1</td>\n",
       "      <td>1</td>\n",
       "      <td>0</td>\n",
       "      <td>1</td>\n",
       "    </tr>\n",
       "    <tr>\n",
       "      <th>9999</th>\n",
       "      <td>1.463771</td>\n",
       "      <td>-1.041433</td>\n",
       "      <td>4</td>\n",
       "      <td>0.859965</td>\n",
       "      <td>1</td>\n",
       "      <td>1</td>\n",
       "      <td>0</td>\n",
       "      <td>-1.076370</td>\n",
       "      <td>0</td>\n",
       "      <td>0</td>\n",
       "      <td>0</td>\n",
       "      <td>0</td>\n",
       "    </tr>\n",
       "  </tbody>\n",
       "</table>\n",
       "<p>10000 rows × 12 columns</p>\n",
       "</div>"
      ],
      "text/plain": [
       "      CreditScore       Age  Tenure   Balance  NumOfProducts HasCrCard  \\\n",
       "0       -0.326221  0.293517       2 -1.225848              1         1   \n",
       "1       -0.440036  0.198164       1  0.117350              1         0   \n",
       "2       -1.536794  0.293517       8  1.333053              3         1   \n",
       "3        0.501521  0.007457       1 -1.225848              2         0   \n",
       "4        2.063884  0.388871       2  0.785728              1         1   \n",
       "...           ...       ...     ...       ...            ...       ...   \n",
       "9995     1.246488  0.007457       5 -1.225848              2         1   \n",
       "9996    -1.391939 -0.373958      10 -0.306379              1         1   \n",
       "9997     0.604988 -0.278604       7 -1.225848              1         0   \n",
       "9998     1.256835  0.293517       3 -0.022608              2         1   \n",
       "9999     1.463771 -1.041433       4  0.859965              1         1   \n",
       "\n",
       "     IsActiveMember  EstimatedSalary Exited  Geography_Germany  \\\n",
       "0                 1         0.021886      1                  0   \n",
       "1                 1         0.216534      0                  0   \n",
       "2                 0         0.240687      1                  0   \n",
       "3                 0        -0.108918      0                  0   \n",
       "4                 1        -0.365276      0                  0   \n",
       "...             ...              ...    ...                ...   \n",
       "9995              0        -0.066419      0                  0   \n",
       "9996              1         0.027988      0                  0   \n",
       "9997              1        -1.008643      1                  0   \n",
       "9998              0        -0.125231      1                  1   \n",
       "9999              0        -1.076370      0                  0   \n",
       "\n",
       "      Geography_Spain  Gender_Male  \n",
       "0                   0            0  \n",
       "1                   1            0  \n",
       "2                   0            0  \n",
       "3                   0            0  \n",
       "4                   1            0  \n",
       "...               ...          ...  \n",
       "9995                0            1  \n",
       "9996                0            1  \n",
       "9997                0            0  \n",
       "9998                0            1  \n",
       "9999                0            0  \n",
       "\n",
       "[10000 rows x 12 columns]"
      ]
     },
     "execution_count": 34,
     "metadata": {},
     "output_type": "execute_result"
    }
   ],
   "source": [
    "from sklearn.preprocessing import LabelEncoder\n",
    "le = LabelEncoder()\n",
    "data['Geography_Germany'] = le.fit_transform(data['Geography_Germany'])\n",
    "data['Geography_Spain']  = le.fit_transform(data['Geography_Spain'])\n",
    "data['Gender_Male'] = le.fit_transform(data['Gender_Male']) \n",
    "data\n",
    "                                             "
   ]
  },
  {
   "cell_type": "code",
   "execution_count": 35,
   "id": "7eff95c7",
   "metadata": {
    "execution": {
     "iopub.execute_input": "2023-10-24T13:54:43.232933Z",
     "iopub.status.busy": "2023-10-24T13:54:43.232071Z",
     "iopub.status.idle": "2023-10-24T13:54:43.239684Z",
     "shell.execute_reply": "2023-10-24T13:54:43.238574Z"
    },
    "papermill": {
     "duration": 0.037625,
     "end_time": "2023-10-24T13:54:43.242058",
     "exception": false,
     "start_time": "2023-10-24T13:54:43.204433",
     "status": "completed"
    },
    "tags": []
   },
   "outputs": [
    {
     "data": {
      "text/plain": [
       "Index(['CreditScore', 'Age', 'Tenure', 'Balance', 'NumOfProducts', 'HasCrCard',\n",
       "       'IsActiveMember', 'EstimatedSalary', 'Exited', 'Geography_Germany',\n",
       "       'Geography_Spain', 'Gender_Male'],\n",
       "      dtype='object')"
      ]
     },
     "execution_count": 35,
     "metadata": {},
     "output_type": "execute_result"
    }
   ],
   "source": [
    "data.columns"
   ]
  },
  {
   "cell_type": "markdown",
   "id": "1f06ae0b",
   "metadata": {
    "papermill": {
     "duration": 0.025289,
     "end_time": "2023-10-24T13:54:43.293491",
     "exception": false,
     "start_time": "2023-10-24T13:54:43.268202",
     "status": "completed"
    },
    "tags": []
   },
   "source": [
    "\n",
    "<a id=\"5\"></a> <br>\n",
    "## Logistic Regression & Ensemble Method Classifier to Train the Model"
   ]
  },
  {
   "cell_type": "code",
   "execution_count": 36,
   "id": "11c22749",
   "metadata": {
    "execution": {
     "iopub.execute_input": "2023-10-24T13:54:43.346912Z",
     "iopub.status.busy": "2023-10-24T13:54:43.346531Z",
     "iopub.status.idle": "2023-10-24T13:54:43.356039Z",
     "shell.execute_reply": "2023-10-24T13:54:43.354965Z"
    },
    "papermill": {
     "duration": 0.038546,
     "end_time": "2023-10-24T13:54:43.358080",
     "exception": false,
     "start_time": "2023-10-24T13:54:43.319534",
     "status": "completed"
    },
    "tags": []
   },
   "outputs": [],
   "source": [
    "data['HasCrCard'] = data['HasCrCard'].astype('int')\n",
    "data['IsActiveMember'] = data['IsActiveMember'].astype('int')\n",
    "data['Exited'] = data['Exited'].astype('int')"
   ]
  },
  {
   "cell_type": "code",
   "execution_count": 37,
   "id": "26f9bcc6",
   "metadata": {
    "execution": {
     "iopub.execute_input": "2023-10-24T13:54:43.411177Z",
     "iopub.status.busy": "2023-10-24T13:54:43.410789Z",
     "iopub.status.idle": "2023-10-24T13:54:43.629175Z",
     "shell.execute_reply": "2023-10-24T13:54:43.628106Z"
    },
    "papermill": {
     "duration": 0.247847,
     "end_time": "2023-10-24T13:54:43.631851",
     "exception": false,
     "start_time": "2023-10-24T13:54:43.384004",
     "status": "completed"
    },
    "tags": []
   },
   "outputs": [],
   "source": [
    "from sklearn.model_selection import train_test_split\n",
    "X = data.drop(columns=['Exited'])\n",
    "y= data['Exited']\n",
    "X_train, X_test, y_train, y_test = train_test_split(X, y, test_size=0.2, random_state=42)"
   ]
  },
  {
   "cell_type": "code",
   "execution_count": 38,
   "id": "e9c32af5",
   "metadata": {
    "execution": {
     "iopub.execute_input": "2023-10-24T13:54:43.686591Z",
     "iopub.status.busy": "2023-10-24T13:54:43.686156Z",
     "iopub.status.idle": "2023-10-24T13:54:44.038914Z",
     "shell.execute_reply": "2023-10-24T13:54:44.037923Z"
    },
    "papermill": {
     "duration": 0.384065,
     "end_time": "2023-10-24T13:54:44.041866",
     "exception": false,
     "start_time": "2023-10-24T13:54:43.657801",
     "status": "completed"
    },
    "tags": []
   },
   "outputs": [],
   "source": [
    "from sklearn.linear_model import LogisticRegression\n",
    "from sklearn.ensemble import RandomForestClassifier"
   ]
  },
  {
   "cell_type": "code",
   "execution_count": 39,
   "id": "bf69cabd",
   "metadata": {
    "execution": {
     "iopub.execute_input": "2023-10-24T13:54:44.099423Z",
     "iopub.status.busy": "2023-10-24T13:54:44.098534Z",
     "iopub.status.idle": "2023-10-24T13:54:44.170850Z",
     "shell.execute_reply": "2023-10-24T13:54:44.169666Z"
    },
    "papermill": {
     "duration": 0.10561,
     "end_time": "2023-10-24T13:54:44.175068",
     "exception": false,
     "start_time": "2023-10-24T13:54:44.069458",
     "status": "completed"
    },
    "tags": []
   },
   "outputs": [
    {
     "data": {
      "text/plain": [
       "array([0, 0, 0, ..., 0, 0, 0])"
      ]
     },
     "execution_count": 39,
     "metadata": {},
     "output_type": "execute_result"
    }
   ],
   "source": [
    "Lr = LogisticRegression(random_state=42)\n",
    "Lr.fit(X_train,y_train)\n",
    "y_pred_train = Lr.predict(X_train)\n",
    "y_pred_train"
   ]
  },
  {
   "cell_type": "code",
   "execution_count": 40,
   "id": "61a08dd0",
   "metadata": {
    "execution": {
     "iopub.execute_input": "2023-10-24T13:54:44.291019Z",
     "iopub.status.busy": "2023-10-24T13:54:44.290289Z",
     "iopub.status.idle": "2023-10-24T13:54:44.301892Z",
     "shell.execute_reply": "2023-10-24T13:54:44.300587Z"
    },
    "papermill": {
     "duration": 0.07229,
     "end_time": "2023-10-24T13:54:44.305680",
     "exception": false,
     "start_time": "2023-10-24T13:54:44.233390",
     "status": "completed"
    },
    "tags": []
   },
   "outputs": [
    {
     "data": {
      "text/plain": [
       "array([0, 0, 0, ..., 0, 0, 0])"
      ]
     },
     "execution_count": 40,
     "metadata": {},
     "output_type": "execute_result"
    }
   ],
   "source": [
    "y_pred_test = Lr.predict(X_test)\n",
    "y_pred_test"
   ]
  },
  {
   "cell_type": "code",
   "execution_count": 41,
   "id": "ce10d0c8",
   "metadata": {
    "execution": {
     "iopub.execute_input": "2023-10-24T13:54:44.422224Z",
     "iopub.status.busy": "2023-10-24T13:54:44.421146Z",
     "iopub.status.idle": "2023-10-24T13:54:44.430756Z",
     "shell.execute_reply": "2023-10-24T13:54:44.429836Z"
    },
    "papermill": {
     "duration": 0.070309,
     "end_time": "2023-10-24T13:54:44.433021",
     "exception": false,
     "start_time": "2023-10-24T13:54:44.362712",
     "status": "completed"
    },
    "tags": []
   },
   "outputs": [
    {
     "data": {
      "text/plain": [
       "0.811"
      ]
     },
     "execution_count": 41,
     "metadata": {},
     "output_type": "execute_result"
    }
   ],
   "source": [
    "from sklearn.metrics import accuracy_score\n",
    "\n",
    "acc_train = accuracy_score(y_train,y_pred_train)\n",
    "acc_train"
   ]
  },
  {
   "cell_type": "code",
   "execution_count": 42,
   "id": "70eafabf",
   "metadata": {
    "execution": {
     "iopub.execute_input": "2023-10-24T13:54:44.487532Z",
     "iopub.status.busy": "2023-10-24T13:54:44.486685Z",
     "iopub.status.idle": "2023-10-24T13:54:44.495061Z",
     "shell.execute_reply": "2023-10-24T13:54:44.493987Z"
    },
    "papermill": {
     "duration": 0.037597,
     "end_time": "2023-10-24T13:54:44.497256",
     "exception": false,
     "start_time": "2023-10-24T13:54:44.459659",
     "status": "completed"
    },
    "tags": []
   },
   "outputs": [
    {
     "data": {
      "text/plain": [
       "0.8115"
      ]
     },
     "execution_count": 42,
     "metadata": {},
     "output_type": "execute_result"
    }
   ],
   "source": [
    "acc_test = accuracy_score(y_test,y_pred_test)\n",
    "acc_test"
   ]
  },
  {
   "cell_type": "code",
   "execution_count": 43,
   "id": "47ce1198",
   "metadata": {
    "execution": {
     "iopub.execute_input": "2023-10-24T13:54:44.553148Z",
     "iopub.status.busy": "2023-10-24T13:54:44.552510Z",
     "iopub.status.idle": "2023-10-24T13:54:45.992059Z",
     "shell.execute_reply": "2023-10-24T13:54:45.991023Z"
    },
    "papermill": {
     "duration": 1.470633,
     "end_time": "2023-10-24T13:54:45.994847",
     "exception": false,
     "start_time": "2023-10-24T13:54:44.524214",
     "status": "completed"
    },
    "tags": []
   },
   "outputs": [
    {
     "data": {
      "text/plain": [
       "array([0, 0, 1, ..., 1, 1, 0])"
      ]
     },
     "execution_count": 43,
     "metadata": {},
     "output_type": "execute_result"
    }
   ],
   "source": [
    "clf1 = RandomForestClassifier(random_state=42)\n",
    "clf1.fit(X_train,y_train)\n",
    "y_pred_train1 = clf1.predict(X_train)\n",
    "y_pred_train1"
   ]
  },
  {
   "cell_type": "code",
   "execution_count": 44,
   "id": "80ea0d17",
   "metadata": {
    "execution": {
     "iopub.execute_input": "2023-10-24T13:54:46.050140Z",
     "iopub.status.busy": "2023-10-24T13:54:46.049416Z",
     "iopub.status.idle": "2023-10-24T13:54:46.102386Z",
     "shell.execute_reply": "2023-10-24T13:54:46.101323Z"
    },
    "papermill": {
     "duration": 0.082735,
     "end_time": "2023-10-24T13:54:46.104633",
     "exception": false,
     "start_time": "2023-10-24T13:54:46.021898",
     "status": "completed"
    },
    "tags": []
   },
   "outputs": [
    {
     "data": {
      "text/plain": [
       "array([0, 0, 0, ..., 1, 0, 0])"
      ]
     },
     "execution_count": 44,
     "metadata": {},
     "output_type": "execute_result"
    }
   ],
   "source": [
    "y_pred_test1 = clf1.predict(X_test)\n",
    "y_pred_test1"
   ]
  },
  {
   "cell_type": "code",
   "execution_count": 45,
   "id": "f6873f66",
   "metadata": {
    "execution": {
     "iopub.execute_input": "2023-10-24T13:54:46.158804Z",
     "iopub.status.busy": "2023-10-24T13:54:46.158468Z",
     "iopub.status.idle": "2023-10-24T13:54:46.167334Z",
     "shell.execute_reply": "2023-10-24T13:54:46.166328Z"
    },
    "papermill": {
     "duration": 0.039111,
     "end_time": "2023-10-24T13:54:46.169572",
     "exception": false,
     "start_time": "2023-10-24T13:54:46.130461",
     "status": "completed"
    },
    "tags": []
   },
   "outputs": [
    {
     "data": {
      "text/plain": [
       "1.0"
      ]
     },
     "execution_count": 45,
     "metadata": {},
     "output_type": "execute_result"
    }
   ],
   "source": [
    "acc_train1 = accuracy_score(y_train,y_pred_train1)\n",
    "acc_train1"
   ]
  },
  {
   "cell_type": "code",
   "execution_count": 46,
   "id": "ed87ee54",
   "metadata": {
    "execution": {
     "iopub.execute_input": "2023-10-24T13:54:46.225338Z",
     "iopub.status.busy": "2023-10-24T13:54:46.224925Z",
     "iopub.status.idle": "2023-10-24T13:54:46.233154Z",
     "shell.execute_reply": "2023-10-24T13:54:46.232078Z"
    },
    "papermill": {
     "duration": 0.038668,
     "end_time": "2023-10-24T13:54:46.235177",
     "exception": false,
     "start_time": "2023-10-24T13:54:46.196509",
     "status": "completed"
    },
    "tags": []
   },
   "outputs": [
    {
     "data": {
      "text/plain": [
       "0.867"
      ]
     },
     "execution_count": 46,
     "metadata": {},
     "output_type": "execute_result"
    }
   ],
   "source": [
    "acc_test1 = accuracy_score(y_test,y_pred_test1)\n",
    "acc_test1"
   ]
  }
 ],
 "metadata": {
  "kernelspec": {
   "display_name": "Python 3",
   "language": "python",
   "name": "python3"
  },
  "language_info": {
   "codemirror_mode": {
    "name": "ipython",
    "version": 3
   },
   "file_extension": ".py",
   "mimetype": "text/x-python",
   "name": "python",
   "nbconvert_exporter": "python",
   "pygments_lexer": "ipython3",
   "version": "3.10.12"
  },
  "papermill": {
   "default_parameters": {},
   "duration": 15.146057,
   "end_time": "2023-10-24T13:54:46.883243",
   "environment_variables": {},
   "exception": null,
   "input_path": "__notebook__.ipynb",
   "output_path": "__notebook__.ipynb",
   "parameters": {},
   "start_time": "2023-10-24T13:54:31.737186",
   "version": "2.4.0"
  }
 },
 "nbformat": 4,
 "nbformat_minor": 5
}
