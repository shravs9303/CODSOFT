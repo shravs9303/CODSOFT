{
 "cells": [
  {
   "cell_type": "code",
   "execution_count": 1,
   "id": "d91e0f2c",
   "metadata": {
    "execution": {
     "iopub.execute_input": "2023-11-30T15:24:27.245945Z",
     "iopub.status.busy": "2023-11-30T15:24:27.244829Z",
     "iopub.status.idle": "2023-11-30T15:24:28.918019Z",
     "shell.execute_reply": "2023-11-30T15:24:28.916890Z"
    },
    "papermill": {
     "duration": 1.691546,
     "end_time": "2023-11-30T15:24:28.920885",
     "exception": false,
     "start_time": "2023-11-30T15:24:27.229339",
     "status": "completed"
    },
    "tags": []
   },
   "outputs": [],
   "source": [
    "import pandas as pd\n",
    "import numpy as np \n",
    "import seaborn as sns \n",
    "import matplotlib.pyplot as plt "
   ]
  },
  {
   "cell_type": "markdown",
   "id": "36dd9e6a",
   "metadata": {
    "execution": {
     "iopub.execute_input": "2023-11-30T08:01:05.200447Z",
     "iopub.status.busy": "2023-11-30T08:01:05.199351Z",
     "iopub.status.idle": "2023-11-30T08:01:05.662341Z",
     "shell.execute_reply": "2023-11-30T08:01:05.660871Z",
     "shell.execute_reply.started": "2023-11-30T08:01:05.200407Z"
    },
    "papermill": {
     "duration": 0.013019,
     "end_time": "2023-11-30T15:24:28.947208",
     "exception": false,
     "start_time": "2023-11-30T15:24:28.934189",
     "status": "completed"
    },
    "tags": []
   },
   "source": [
    "# Import data "
   ]
  },
  {
   "cell_type": "code",
   "execution_count": 2,
   "id": "8c838ec2",
   "metadata": {
    "execution": {
     "iopub.execute_input": "2023-11-30T15:24:28.974987Z",
     "iopub.status.busy": "2023-11-30T15:24:28.974471Z",
     "iopub.status.idle": "2023-11-30T15:24:29.014979Z",
     "shell.execute_reply": "2023-11-30T15:24:29.013755Z"
    },
    "papermill": {
     "duration": 0.057761,
     "end_time": "2023-11-30T15:24:29.017812",
     "exception": false,
     "start_time": "2023-11-30T15:24:28.960051",
     "status": "completed"
    },
    "tags": []
   },
   "outputs": [],
   "source": [
    "data = pd.read_csv('/kaggle/input/sms-spam-collection-dataset/spam.csv',encoding='ISO-8859-1')"
   ]
  },
  {
   "cell_type": "code",
   "execution_count": 3,
   "id": "91752db1",
   "metadata": {
    "execution": {
     "iopub.execute_input": "2023-11-30T15:24:29.046708Z",
     "iopub.status.busy": "2023-11-30T15:24:29.046160Z",
     "iopub.status.idle": "2023-11-30T15:24:29.069718Z",
     "shell.execute_reply": "2023-11-30T15:24:29.068681Z"
    },
    "papermill": {
     "duration": 0.041095,
     "end_time": "2023-11-30T15:24:29.072148",
     "exception": false,
     "start_time": "2023-11-30T15:24:29.031053",
     "status": "completed"
    },
    "tags": []
   },
   "outputs": [
    {
     "data": {
      "text/html": [
       "<div>\n",
       "<style scoped>\n",
       "    .dataframe tbody tr th:only-of-type {\n",
       "        vertical-align: middle;\n",
       "    }\n",
       "\n",
       "    .dataframe tbody tr th {\n",
       "        vertical-align: top;\n",
       "    }\n",
       "\n",
       "    .dataframe thead th {\n",
       "        text-align: right;\n",
       "    }\n",
       "</style>\n",
       "<table border=\"1\" class=\"dataframe\">\n",
       "  <thead>\n",
       "    <tr style=\"text-align: right;\">\n",
       "      <th></th>\n",
       "      <th>v1</th>\n",
       "      <th>v2</th>\n",
       "      <th>Unnamed: 2</th>\n",
       "      <th>Unnamed: 3</th>\n",
       "      <th>Unnamed: 4</th>\n",
       "    </tr>\n",
       "  </thead>\n",
       "  <tbody>\n",
       "    <tr>\n",
       "      <th>0</th>\n",
       "      <td>ham</td>\n",
       "      <td>Go until jurong point, crazy.. Available only ...</td>\n",
       "      <td>NaN</td>\n",
       "      <td>NaN</td>\n",
       "      <td>NaN</td>\n",
       "    </tr>\n",
       "    <tr>\n",
       "      <th>1</th>\n",
       "      <td>ham</td>\n",
       "      <td>Ok lar... Joking wif u oni...</td>\n",
       "      <td>NaN</td>\n",
       "      <td>NaN</td>\n",
       "      <td>NaN</td>\n",
       "    </tr>\n",
       "    <tr>\n",
       "      <th>2</th>\n",
       "      <td>spam</td>\n",
       "      <td>Free entry in 2 a wkly comp to win FA Cup fina...</td>\n",
       "      <td>NaN</td>\n",
       "      <td>NaN</td>\n",
       "      <td>NaN</td>\n",
       "    </tr>\n",
       "    <tr>\n",
       "      <th>3</th>\n",
       "      <td>ham</td>\n",
       "      <td>U dun say so early hor... U c already then say...</td>\n",
       "      <td>NaN</td>\n",
       "      <td>NaN</td>\n",
       "      <td>NaN</td>\n",
       "    </tr>\n",
       "    <tr>\n",
       "      <th>4</th>\n",
       "      <td>ham</td>\n",
       "      <td>Nah I don't think he goes to usf, he lives aro...</td>\n",
       "      <td>NaN</td>\n",
       "      <td>NaN</td>\n",
       "      <td>NaN</td>\n",
       "    </tr>\n",
       "  </tbody>\n",
       "</table>\n",
       "</div>"
      ],
      "text/plain": [
       "     v1                                                 v2 Unnamed: 2  \\\n",
       "0   ham  Go until jurong point, crazy.. Available only ...        NaN   \n",
       "1   ham                      Ok lar... Joking wif u oni...        NaN   \n",
       "2  spam  Free entry in 2 a wkly comp to win FA Cup fina...        NaN   \n",
       "3   ham  U dun say so early hor... U c already then say...        NaN   \n",
       "4   ham  Nah I don't think he goes to usf, he lives aro...        NaN   \n",
       "\n",
       "  Unnamed: 3 Unnamed: 4  \n",
       "0        NaN        NaN  \n",
       "1        NaN        NaN  \n",
       "2        NaN        NaN  \n",
       "3        NaN        NaN  \n",
       "4        NaN        NaN  "
      ]
     },
     "execution_count": 3,
     "metadata": {},
     "output_type": "execute_result"
    }
   ],
   "source": [
    "data.head()"
   ]
  },
  {
   "cell_type": "code",
   "execution_count": 4,
   "id": "2ff11f00",
   "metadata": {
    "execution": {
     "iopub.execute_input": "2023-11-30T15:24:29.101368Z",
     "iopub.status.busy": "2023-11-30T15:24:29.100370Z",
     "iopub.status.idle": "2023-11-30T15:24:29.128819Z",
     "shell.execute_reply": "2023-11-30T15:24:29.127743Z"
    },
    "papermill": {
     "duration": 0.04617,
     "end_time": "2023-11-30T15:24:29.131821",
     "exception": false,
     "start_time": "2023-11-30T15:24:29.085651",
     "status": "completed"
    },
    "tags": []
   },
   "outputs": [
    {
     "name": "stdout",
     "output_type": "stream",
     "text": [
      "<class 'pandas.core.frame.DataFrame'>\n",
      "RangeIndex: 5572 entries, 0 to 5571\n",
      "Data columns (total 5 columns):\n",
      " #   Column      Non-Null Count  Dtype \n",
      "---  ------      --------------  ----- \n",
      " 0   v1          5572 non-null   object\n",
      " 1   v2          5572 non-null   object\n",
      " 2   Unnamed: 2  50 non-null     object\n",
      " 3   Unnamed: 3  12 non-null     object\n",
      " 4   Unnamed: 4  6 non-null      object\n",
      "dtypes: object(5)\n",
      "memory usage: 217.8+ KB\n"
     ]
    }
   ],
   "source": [
    "data.info()"
   ]
  },
  {
   "cell_type": "markdown",
   "id": "48cadd48",
   "metadata": {
    "papermill": {
     "duration": 0.013278,
     "end_time": "2023-11-30T15:24:29.159330",
     "exception": false,
     "start_time": "2023-11-30T15:24:29.146052",
     "status": "completed"
    },
    "tags": []
   },
   "source": [
    "# **Data Cleaning**"
   ]
  },
  {
   "cell_type": "code",
   "execution_count": 5,
   "id": "b2c1f488",
   "metadata": {
    "execution": {
     "iopub.execute_input": "2023-11-30T15:24:29.188345Z",
     "iopub.status.busy": "2023-11-30T15:24:29.187347Z",
     "iopub.status.idle": "2023-11-30T15:24:29.195741Z",
     "shell.execute_reply": "2023-11-30T15:24:29.194975Z"
    },
    "papermill": {
     "duration": 0.025313,
     "end_time": "2023-11-30T15:24:29.197981",
     "exception": false,
     "start_time": "2023-11-30T15:24:29.172668",
     "status": "completed"
    },
    "tags": []
   },
   "outputs": [],
   "source": [
    "data=data[['v1','v2']].copy()"
   ]
  },
  {
   "cell_type": "code",
   "execution_count": 6,
   "id": "34569872",
   "metadata": {
    "execution": {
     "iopub.execute_input": "2023-11-30T15:24:29.226882Z",
     "iopub.status.busy": "2023-11-30T15:24:29.226220Z",
     "iopub.status.idle": "2023-11-30T15:24:29.231148Z",
     "shell.execute_reply": "2023-11-30T15:24:29.230402Z"
    },
    "papermill": {
     "duration": 0.021849,
     "end_time": "2023-11-30T15:24:29.233275",
     "exception": false,
     "start_time": "2023-11-30T15:24:29.211426",
     "status": "completed"
    },
    "tags": []
   },
   "outputs": [],
   "source": [
    "data.rename(columns={'v1':'class','v2':'text'},inplace=True)"
   ]
  },
  {
   "cell_type": "code",
   "execution_count": 7,
   "id": "361fa90e",
   "metadata": {
    "execution": {
     "iopub.execute_input": "2023-11-30T15:24:29.263349Z",
     "iopub.status.busy": "2023-11-30T15:24:29.262945Z",
     "iopub.status.idle": "2023-11-30T15:24:29.269935Z",
     "shell.execute_reply": "2023-11-30T15:24:29.269162Z"
    },
    "papermill": {
     "duration": 0.02442,
     "end_time": "2023-11-30T15:24:29.271915",
     "exception": false,
     "start_time": "2023-11-30T15:24:29.247495",
     "status": "completed"
    },
    "tags": []
   },
   "outputs": [],
   "source": [
    "data['target']=data['class'].map({'ham':0 ,'spam':1})"
   ]
  },
  {
   "cell_type": "code",
   "execution_count": 8,
   "id": "39f14a35",
   "metadata": {
    "execution": {
     "iopub.execute_input": "2023-11-30T15:24:29.300279Z",
     "iopub.status.busy": "2023-11-30T15:24:29.299836Z",
     "iopub.status.idle": "2023-11-30T15:24:29.307736Z",
     "shell.execute_reply": "2023-11-30T15:24:29.306553Z"
    },
    "papermill": {
     "duration": 0.024785,
     "end_time": "2023-11-30T15:24:29.310059",
     "exception": false,
     "start_time": "2023-11-30T15:24:29.285274",
     "status": "completed"
    },
    "tags": []
   },
   "outputs": [],
   "source": [
    "new_data=data[['target','text']]"
   ]
  },
  {
   "cell_type": "code",
   "execution_count": 9,
   "id": "823e8d10",
   "metadata": {
    "execution": {
     "iopub.execute_input": "2023-11-30T15:24:29.339054Z",
     "iopub.status.busy": "2023-11-30T15:24:29.338431Z",
     "iopub.status.idle": "2023-11-30T15:24:29.351607Z",
     "shell.execute_reply": "2023-11-30T15:24:29.350406Z"
    },
    "papermill": {
     "duration": 0.030637,
     "end_time": "2023-11-30T15:24:29.354063",
     "exception": false,
     "start_time": "2023-11-30T15:24:29.323426",
     "status": "completed"
    },
    "tags": []
   },
   "outputs": [
    {
     "data": {
      "text/plain": [
       "403"
      ]
     },
     "execution_count": 9,
     "metadata": {},
     "output_type": "execute_result"
    }
   ],
   "source": [
    "# dublicate values\n",
    "new_data.duplicated().sum()"
   ]
  },
  {
   "cell_type": "code",
   "execution_count": 10,
   "id": "9e8c1805",
   "metadata": {
    "execution": {
     "iopub.execute_input": "2023-11-30T15:24:29.382944Z",
     "iopub.status.busy": "2023-11-30T15:24:29.382579Z",
     "iopub.status.idle": "2023-11-30T15:24:29.392011Z",
     "shell.execute_reply": "2023-11-30T15:24:29.391194Z"
    },
    "papermill": {
     "duration": 0.026811,
     "end_time": "2023-11-30T15:24:29.394298",
     "exception": false,
     "start_time": "2023-11-30T15:24:29.367487",
     "status": "completed"
    },
    "tags": []
   },
   "outputs": [
    {
     "name": "stderr",
     "output_type": "stream",
     "text": [
      "/tmp/ipykernel_19/3898862419.py:1: SettingWithCopyWarning: \n",
      "A value is trying to be set on a copy of a slice from a DataFrame\n",
      "\n",
      "See the caveats in the documentation: https://pandas.pydata.org/pandas-docs/stable/user_guide/indexing.html#returning-a-view-versus-a-copy\n",
      "  new_data.drop_duplicates(inplace=True)\n"
     ]
    }
   ],
   "source": [
    "new_data.drop_duplicates(inplace=True)"
   ]
  },
  {
   "cell_type": "code",
   "execution_count": 11,
   "id": "8506e8eb",
   "metadata": {
    "execution": {
     "iopub.execute_input": "2023-11-30T15:24:29.423404Z",
     "iopub.status.busy": "2023-11-30T15:24:29.422994Z",
     "iopub.status.idle": "2023-11-30T15:24:29.433259Z",
     "shell.execute_reply": "2023-11-30T15:24:29.432187Z"
    },
    "papermill": {
     "duration": 0.027838,
     "end_time": "2023-11-30T15:24:29.435550",
     "exception": false,
     "start_time": "2023-11-30T15:24:29.407712",
     "status": "completed"
    },
    "tags": []
   },
   "outputs": [
    {
     "data": {
      "text/plain": [
       "0"
      ]
     },
     "execution_count": 11,
     "metadata": {},
     "output_type": "execute_result"
    }
   ],
   "source": [
    "new_data.duplicated().sum()"
   ]
  },
  {
   "cell_type": "code",
   "execution_count": 12,
   "id": "5e178dc1",
   "metadata": {
    "execution": {
     "iopub.execute_input": "2023-11-30T15:24:29.464870Z",
     "iopub.status.busy": "2023-11-30T15:24:29.464461Z",
     "iopub.status.idle": "2023-11-30T15:24:29.477554Z",
     "shell.execute_reply": "2023-11-30T15:24:29.476591Z"
    },
    "papermill": {
     "duration": 0.030529,
     "end_time": "2023-11-30T15:24:29.479616",
     "exception": false,
     "start_time": "2023-11-30T15:24:29.449087",
     "status": "completed"
    },
    "tags": []
   },
   "outputs": [
    {
     "data": {
      "text/html": [
       "<div>\n",
       "<style scoped>\n",
       "    .dataframe tbody tr th:only-of-type {\n",
       "        vertical-align: middle;\n",
       "    }\n",
       "\n",
       "    .dataframe tbody tr th {\n",
       "        vertical-align: top;\n",
       "    }\n",
       "\n",
       "    .dataframe thead th {\n",
       "        text-align: right;\n",
       "    }\n",
       "</style>\n",
       "<table border=\"1\" class=\"dataframe\">\n",
       "  <thead>\n",
       "    <tr style=\"text-align: right;\">\n",
       "      <th></th>\n",
       "      <th>target</th>\n",
       "      <th>text</th>\n",
       "    </tr>\n",
       "  </thead>\n",
       "  <tbody>\n",
       "    <tr>\n",
       "      <th>0</th>\n",
       "      <td>0</td>\n",
       "      <td>Go until jurong point, crazy.. Available only ...</td>\n",
       "    </tr>\n",
       "    <tr>\n",
       "      <th>1</th>\n",
       "      <td>0</td>\n",
       "      <td>Ok lar... Joking wif u oni...</td>\n",
       "    </tr>\n",
       "    <tr>\n",
       "      <th>2</th>\n",
       "      <td>1</td>\n",
       "      <td>Free entry in 2 a wkly comp to win FA Cup fina...</td>\n",
       "    </tr>\n",
       "    <tr>\n",
       "      <th>3</th>\n",
       "      <td>0</td>\n",
       "      <td>U dun say so early hor... U c already then say...</td>\n",
       "    </tr>\n",
       "    <tr>\n",
       "      <th>4</th>\n",
       "      <td>0</td>\n",
       "      <td>Nah I don't think he goes to usf, he lives aro...</td>\n",
       "    </tr>\n",
       "    <tr>\n",
       "      <th>...</th>\n",
       "      <td>...</td>\n",
       "      <td>...</td>\n",
       "    </tr>\n",
       "    <tr>\n",
       "      <th>5567</th>\n",
       "      <td>1</td>\n",
       "      <td>This is the 2nd time we have tried 2 contact u...</td>\n",
       "    </tr>\n",
       "    <tr>\n",
       "      <th>5568</th>\n",
       "      <td>0</td>\n",
       "      <td>Will Ì_ b going to esplanade fr home?</td>\n",
       "    </tr>\n",
       "    <tr>\n",
       "      <th>5569</th>\n",
       "      <td>0</td>\n",
       "      <td>Pity, * was in mood for that. So...any other s...</td>\n",
       "    </tr>\n",
       "    <tr>\n",
       "      <th>5570</th>\n",
       "      <td>0</td>\n",
       "      <td>The guy did some bitching but I acted like i'd...</td>\n",
       "    </tr>\n",
       "    <tr>\n",
       "      <th>5571</th>\n",
       "      <td>0</td>\n",
       "      <td>Rofl. Its true to its name</td>\n",
       "    </tr>\n",
       "  </tbody>\n",
       "</table>\n",
       "<p>5169 rows × 2 columns</p>\n",
       "</div>"
      ],
      "text/plain": [
       "      target                                               text\n",
       "0          0  Go until jurong point, crazy.. Available only ...\n",
       "1          0                      Ok lar... Joking wif u oni...\n",
       "2          1  Free entry in 2 a wkly comp to win FA Cup fina...\n",
       "3          0  U dun say so early hor... U c already then say...\n",
       "4          0  Nah I don't think he goes to usf, he lives aro...\n",
       "...      ...                                                ...\n",
       "5567       1  This is the 2nd time we have tried 2 contact u...\n",
       "5568       0              Will Ì_ b going to esplanade fr home?\n",
       "5569       0  Pity, * was in mood for that. So...any other s...\n",
       "5570       0  The guy did some bitching but I acted like i'd...\n",
       "5571       0                         Rofl. Its true to its name\n",
       "\n",
       "[5169 rows x 2 columns]"
      ]
     },
     "execution_count": 12,
     "metadata": {},
     "output_type": "execute_result"
    }
   ],
   "source": [
    "new_data"
   ]
  },
  {
   "cell_type": "markdown",
   "id": "defb7669",
   "metadata": {
    "papermill": {
     "duration": 0.013623,
     "end_time": "2023-11-30T15:24:29.507076",
     "exception": false,
     "start_time": "2023-11-30T15:24:29.493453",
     "status": "completed"
    },
    "tags": []
   },
   "source": [
    "# Visualization "
   ]
  },
  {
   "cell_type": "code",
   "execution_count": 13,
   "id": "052bf098",
   "metadata": {
    "execution": {
     "iopub.execute_input": "2023-11-30T15:24:29.536893Z",
     "iopub.status.busy": "2023-11-30T15:24:29.536454Z",
     "iopub.status.idle": "2023-11-30T15:24:29.917587Z",
     "shell.execute_reply": "2023-11-30T15:24:29.916109Z"
    },
    "papermill": {
     "duration": 0.399142,
     "end_time": "2023-11-30T15:24:29.920419",
     "exception": false,
     "start_time": "2023-11-30T15:24:29.521277",
     "status": "completed"
    },
    "tags": []
   },
   "outputs": [
    {
     "data": {
      "image/png": "[encoded data removed]",
      "text/plain": [
       "<Figure size 640x480 with 1 Axes>"
      ]
     },
     "metadata": {},
     "output_type": "display_data"
    }
   ],
   "source": [
    "new_data['target'].value_counts().plot(kind='bar')\n",
    "plt.xlabel('Target')\n",
    "plt.title('spam:1 and ham:0')\n",
    "plt.show()"
   ]
  },
  {
   "cell_type": "markdown",
   "id": "10011ed6",
   "metadata": {
    "papermill": {
     "duration": 0.014334,
     "end_time": "2023-11-30T15:24:29.950503",
     "exception": false,
     "start_time": "2023-11-30T15:24:29.936169",
     "status": "completed"
    },
    "tags": []
   },
   "source": [
    "* 1 is spam \n",
    "* 0 is ham \n",
    "* data is imbalance"
   ]
  },
  {
   "cell_type": "markdown",
   "id": "11a25165",
   "metadata": {
    "papermill": {
     "duration": 0.014714,
     "end_time": "2023-11-30T15:24:29.979677",
     "exception": false,
     "start_time": "2023-11-30T15:24:29.964963",
     "status": "completed"
    },
    "tags": []
   },
   "source": [
    "# **Text Data Preprocessing**\n",
    "* Lower case\n",
    "*Tokenization\n",
    "*Remove special characters \n",
    "*removing stop words and punctuaction\n",
    "*stemming"
   ]
  },
  {
   "cell_type": "code",
   "execution_count": 14,
   "id": "4d673896",
   "metadata": {
    "execution": {
     "iopub.execute_input": "2023-11-30T15:24:30.011295Z",
     "iopub.status.busy": "2023-11-30T15:24:30.010220Z",
     "iopub.status.idle": "2023-11-30T15:24:30.864897Z",
     "shell.execute_reply": "2023-11-30T15:24:30.863668Z"
    },
    "papermill": {
     "duration": 0.873516,
     "end_time": "2023-11-30T15:24:30.867605",
     "exception": false,
     "start_time": "2023-11-30T15:24:29.994089",
     "status": "completed"
    },
    "tags": []
   },
   "outputs": [],
   "source": [
    "import nltk\n",
    "from nltk.corpus import stopwords \n",
    "from nltk.stem.porter import PorterStemmer\n",
    "import string"
   ]
  },
  {
   "cell_type": "code",
   "execution_count": 15,
   "id": "b9d594e7",
   "metadata": {
    "execution": {
     "iopub.execute_input": "2023-11-30T15:24:30.958899Z",
     "iopub.status.busy": "2023-11-30T15:24:30.958511Z",
     "iopub.status.idle": "2023-11-30T15:24:30.963083Z",
     "shell.execute_reply": "2023-11-30T15:24:30.961959Z"
    },
    "papermill": {
     "duration": 0.083703,
     "end_time": "2023-11-30T15:24:30.965608",
     "exception": false,
     "start_time": "2023-11-30T15:24:30.881905",
     "status": "completed"
    },
    "tags": []
   },
   "outputs": [],
   "source": [
    "ps=PorterStemmer()"
   ]
  },
  {
   "cell_type": "markdown",
   "id": "00c1fc29",
   "metadata": {
    "papermill": {
     "duration": 0.014001,
     "end_time": "2023-11-30T15:24:30.993915",
     "exception": false,
     "start_time": "2023-11-30T15:24:30.979914",
     "status": "completed"
    },
    "tags": []
   },
   "source": [
    "#### Function for transformation Text"
   ]
  },
  {
   "cell_type": "code",
   "execution_count": 16,
   "id": "7635e830",
   "metadata": {
    "execution": {
     "iopub.execute_input": "2023-11-30T15:24:31.024819Z",
     "iopub.status.busy": "2023-11-30T15:24:31.023901Z",
     "iopub.status.idle": "2023-11-30T15:24:31.032283Z",
     "shell.execute_reply": "2023-11-30T15:24:31.031176Z"
    },
    "papermill": {
     "duration": 0.026392,
     "end_time": "2023-11-30T15:24:31.034744",
     "exception": false,
     "start_time": "2023-11-30T15:24:31.008352",
     "status": "completed"
    },
    "tags": []
   },
   "outputs": [],
   "source": [
    "def transform_data(data):\n",
    "    data = data.lower()\n",
    "    data= nltk.word_tokenize(data)\n",
    "    \n",
    "    y=[]\n",
    "    for i in data:\n",
    "        if i.isalnum():\n",
    "            y.append(i)\n",
    "            \n",
    "    text = y[:]\n",
    "    y.clear()\n",
    "    \n",
    "    for i in text:\n",
    "        if i not in stopwords.words(\"english\") and i not in string.punctuation:\n",
    "            y.append(i)\n",
    "    \n",
    "    text = y[:]\n",
    "    y.clear()\n",
    "    \n",
    "    for i in text:\n",
    "        y.append(ps.stem(i))\n",
    "            \n",
    "    return \" \".join(y)"
   ]
  },
  {
   "cell_type": "code",
   "execution_count": 17,
   "id": "1e28d215",
   "metadata": {
    "execution": {
     "iopub.execute_input": "2023-11-30T15:24:31.065181Z",
     "iopub.status.busy": "2023-11-30T15:24:31.064746Z",
     "iopub.status.idle": "2023-11-30T15:24:31.090387Z",
     "shell.execute_reply": "2023-11-30T15:24:31.089520Z"
    },
    "papermill": {
     "duration": 0.043427,
     "end_time": "2023-11-30T15:24:31.092624",
     "exception": false,
     "start_time": "2023-11-30T15:24:31.049197",
     "status": "completed"
    },
    "tags": []
   },
   "outputs": [
    {
     "data": {
      "text/plain": [
       "'hello guy ziad'"
      ]
     },
     "execution_count": 17,
     "metadata": {},
     "output_type": "execute_result"
    }
   ],
   "source": [
    "transform_data(\"hello guys I am ziad\")"
   ]
  },
  {
   "cell_type": "code",
   "execution_count": 18,
   "id": "0686a57f",
   "metadata": {
    "execution": {
     "iopub.execute_input": "2023-11-30T15:24:31.124230Z",
     "iopub.status.busy": "2023-11-30T15:24:31.122969Z",
     "iopub.status.idle": "2023-11-30T15:24:45.907094Z",
     "shell.execute_reply": "2023-11-30T15:24:45.905611Z"
    },
    "papermill": {
     "duration": 14.80321,
     "end_time": "2023-11-30T15:24:45.910460",
     "exception": false,
     "start_time": "2023-11-30T15:24:31.107250",
     "status": "completed"
    },
    "tags": []
   },
   "outputs": [
    {
     "name": "stderr",
     "output_type": "stream",
     "text": [
      "/tmp/ipykernel_19/1073675367.py:1: SettingWithCopyWarning: \n",
      "A value is trying to be set on a copy of a slice from a DataFrame.\n",
      "Try using .loc[row_indexer,col_indexer] = value instead\n",
      "\n",
      "See the caveats in the documentation: https://pandas.pydata.org/pandas-docs/stable/user_guide/indexing.html#returning-a-view-versus-a-copy\n",
      "  new_data['transformed_txt']=new_data.text.apply(transform_data)\n"
     ]
    }
   ],
   "source": [
    "new_data['transformed_txt']=new_data.text.apply(transform_data)"
   ]
  },
  {
   "cell_type": "code",
   "execution_count": 19,
   "id": "4facbfec",
   "metadata": {
    "execution": {
     "iopub.execute_input": "2023-11-30T15:24:45.947769Z",
     "iopub.status.busy": "2023-11-30T15:24:45.947335Z",
     "iopub.status.idle": "2023-11-30T15:24:45.958335Z",
     "shell.execute_reply": "2023-11-30T15:24:45.957109Z"
    },
    "papermill": {
     "duration": 0.030839,
     "end_time": "2023-11-30T15:24:45.960900",
     "exception": false,
     "start_time": "2023-11-30T15:24:45.930061",
     "status": "completed"
    },
    "tags": []
   },
   "outputs": [],
   "source": [
    "spam_corpus = []\n",
    "for msg in new_data[new_data['target']==1]['transformed_txt'].tolist():\n",
    "    for word in msg.split():\n",
    "        spam_corpus.append(word)"
   ]
  },
  {
   "cell_type": "code",
   "execution_count": 20,
   "id": "6d23391f",
   "metadata": {
    "execution": {
     "iopub.execute_input": "2023-11-30T15:24:45.994369Z",
     "iopub.status.busy": "2023-11-30T15:24:45.993530Z",
     "iopub.status.idle": "2023-11-30T15:24:46.000760Z",
     "shell.execute_reply": "2023-11-30T15:24:45.999588Z"
    },
    "papermill": {
     "duration": 0.026622,
     "end_time": "2023-11-30T15:24:46.003171",
     "exception": false,
     "start_time": "2023-11-30T15:24:45.976549",
     "status": "completed"
    },
    "tags": []
   },
   "outputs": [
    {
     "data": {
      "text/plain": [
       "9883"
      ]
     },
     "execution_count": 20,
     "metadata": {},
     "output_type": "execute_result"
    }
   ],
   "source": [
    "len(spam_corpus)"
   ]
  },
  {
   "cell_type": "code",
   "execution_count": 21,
   "id": "e97e68d7",
   "metadata": {
    "execution": {
     "iopub.execute_input": "2023-11-30T15:24:46.036942Z",
     "iopub.status.busy": "2023-11-30T15:24:46.036462Z",
     "iopub.status.idle": "2023-11-30T15:24:46.048906Z",
     "shell.execute_reply": "2023-11-30T15:24:46.047675Z"
    },
    "papermill": {
     "duration": 0.032873,
     "end_time": "2023-11-30T15:24:46.051493",
     "exception": false,
     "start_time": "2023-11-30T15:24:46.018620",
     "status": "completed"
    },
    "tags": []
   },
   "outputs": [
    {
     "data": {
      "text/plain": [
       "[('call', 320),\n",
       " ('free', 189),\n",
       " ('2', 155),\n",
       " ('txt', 141),\n",
       " ('text', 122),\n",
       " ('u', 119),\n",
       " ('ur', 119),\n",
       " ('mobil', 114),\n",
       " ('stop', 104),\n",
       " ('repli', 103),\n",
       " ('claim', 98),\n",
       " ('prize', 82),\n",
       " ('4', 76),\n",
       " ('get', 74),\n",
       " ('new', 64)]"
      ]
     },
     "execution_count": 21,
     "metadata": {},
     "output_type": "execute_result"
    }
   ],
   "source": [
    "from collections import Counter\n",
    "Counter(spam_corpus).most_common(15)"
   ]
  },
  {
   "cell_type": "code",
   "execution_count": 22,
   "id": "701795c1",
   "metadata": {
    "execution": {
     "iopub.execute_input": "2023-11-30T15:24:46.085777Z",
     "iopub.status.busy": "2023-11-30T15:24:46.084647Z",
     "iopub.status.idle": "2023-11-30T15:24:46.107361Z",
     "shell.execute_reply": "2023-11-30T15:24:46.105929Z"
    },
    "papermill": {
     "duration": 0.044478,
     "end_time": "2023-11-30T15:24:46.111880",
     "exception": false,
     "start_time": "2023-11-30T15:24:46.067402",
     "status": "completed"
    },
    "tags": []
   },
   "outputs": [],
   "source": [
    "ham_corpus = []\n",
    "for msg in new_data[new_data['target']==0]['transformed_txt'].tolist():\n",
    "    for word in msg.split():\n",
    "        ham_corpus.append(word)"
   ]
  },
  {
   "cell_type": "code",
   "execution_count": 23,
   "id": "45b06ef8",
   "metadata": {
    "execution": {
     "iopub.execute_input": "2023-11-30T15:24:46.150794Z",
     "iopub.status.busy": "2023-11-30T15:24:46.149734Z",
     "iopub.status.idle": "2023-11-30T15:24:46.157514Z",
     "shell.execute_reply": "2023-11-30T15:24:46.156507Z"
    },
    "papermill": {
     "duration": 0.027915,
     "end_time": "2023-11-30T15:24:46.159817",
     "exception": false,
     "start_time": "2023-11-30T15:24:46.131902",
     "status": "completed"
    },
    "tags": []
   },
   "outputs": [
    {
     "data": {
      "text/plain": [
       "34771"
      ]
     },
     "execution_count": 23,
     "metadata": {},
     "output_type": "execute_result"
    }
   ],
   "source": [
    "len(ham_corpus)"
   ]
  },
  {
   "cell_type": "markdown",
   "id": "f8a89c88",
   "metadata": {
    "papermill": {
     "duration": 0.015117,
     "end_time": "2023-11-30T15:24:46.190740",
     "exception": false,
     "start_time": "2023-11-30T15:24:46.175623",
     "status": "completed"
    },
    "tags": []
   },
   "source": [
    "# **Model**"
   ]
  },
  {
   "cell_type": "code",
   "execution_count": 24,
   "id": "6939cc84",
   "metadata": {
    "execution": {
     "iopub.execute_input": "2023-11-30T15:24:46.227191Z",
     "iopub.status.busy": "2023-11-30T15:24:46.226443Z",
     "iopub.status.idle": "2023-11-30T15:24:46.231176Z",
     "shell.execute_reply": "2023-11-30T15:24:46.230240Z"
    },
    "papermill": {
     "duration": 0.024712,
     "end_time": "2023-11-30T15:24:46.233595",
     "exception": false,
     "start_time": "2023-11-30T15:24:46.208883",
     "status": "completed"
    },
    "tags": []
   },
   "outputs": [],
   "source": [
    "from sklearn.feature_extraction.text import CountVectorizer\n",
    "cv= CountVectorizer()"
   ]
  },
  {
   "cell_type": "code",
   "execution_count": 25,
   "id": "4a458edd",
   "metadata": {
    "execution": {
     "iopub.execute_input": "2023-11-30T15:24:46.268643Z",
     "iopub.status.busy": "2023-11-30T15:24:46.267816Z",
     "iopub.status.idle": "2023-11-30T15:24:46.273502Z",
     "shell.execute_reply": "2023-11-30T15:24:46.272632Z"
    },
    "papermill": {
     "duration": 0.025824,
     "end_time": "2023-11-30T15:24:46.275894",
     "exception": false,
     "start_time": "2023-11-30T15:24:46.250070",
     "status": "completed"
    },
    "tags": []
   },
   "outputs": [],
   "source": [
    "new_data.reset_index(inplace=True)"
   ]
  },
  {
   "cell_type": "code",
   "execution_count": 26,
   "id": "a8e73aa0",
   "metadata": {
    "execution": {
     "iopub.execute_input": "2023-11-30T15:24:46.309730Z",
     "iopub.status.busy": "2023-11-30T15:24:46.308996Z",
     "iopub.status.idle": "2023-11-30T15:24:46.502597Z",
     "shell.execute_reply": "2023-11-30T15:24:46.501462Z"
    },
    "papermill": {
     "duration": 0.213719,
     "end_time": "2023-11-30T15:24:46.505602",
     "exception": false,
     "start_time": "2023-11-30T15:24:46.291883",
     "status": "completed"
    },
    "tags": []
   },
   "outputs": [],
   "source": [
    "X = cv.fit_transform(new_data['transformed_txt']).toarray()\n",
    "y=new_data['target'].values"
   ]
  },
  {
   "cell_type": "code",
   "execution_count": 27,
   "id": "3453f1ec",
   "metadata": {
    "execution": {
     "iopub.execute_input": "2023-11-30T15:24:46.538805Z",
     "iopub.status.busy": "2023-11-30T15:24:46.538414Z",
     "iopub.status.idle": "2023-11-30T15:24:46.717229Z",
     "shell.execute_reply": "2023-11-30T15:24:46.716189Z"
    },
    "papermill": {
     "duration": 0.198544,
     "end_time": "2023-11-30T15:24:46.720120",
     "exception": false,
     "start_time": "2023-11-30T15:24:46.521576",
     "status": "completed"
    },
    "tags": []
   },
   "outputs": [],
   "source": [
    "from sklearn.model_selection import train_test_split\n",
    "X_train, X_test, y_train, y_test = train_test_split(X, y, test_size=0.2, random_state=42)"
   ]
  },
  {
   "cell_type": "code",
   "execution_count": 28,
   "id": "cffea718",
   "metadata": {
    "execution": {
     "iopub.execute_input": "2023-11-30T15:24:46.754372Z",
     "iopub.status.busy": "2023-11-30T15:24:46.753706Z",
     "iopub.status.idle": "2023-11-30T15:25:05.929230Z",
     "shell.execute_reply": "2023-11-30T15:25:05.927574Z"
    },
    "papermill": {
     "duration": 19.197254,
     "end_time": "2023-11-30T15:25:05.933639",
     "exception": false,
     "start_time": "2023-11-30T15:24:46.736385",
     "status": "completed"
    },
    "tags": []
   },
   "outputs": [
    {
     "name": "stdout",
     "output_type": "stream",
     "text": [
      "Fitting 3 folds for each of 14 candidates, totalling 42 fits\n",
      "[CV 1/3] END .................C=0.001, penalty=l1;, score=nan total time=   0.1s\n",
      "[CV 2/3] END .................C=0.001, penalty=l1;, score=nan total time=   0.1s\n",
      "[CV 3/3] END .................C=0.001, penalty=l1;, score=nan total time=   0.1s\n",
      "[CV 1/3] END ...............C=0.001, penalty=l2;, score=0.877 total time=   0.4s\n",
      "[CV 2/3] END ...............C=0.001, penalty=l2;, score=0.877 total time=   0.4s\n",
      "[CV 3/3] END ...............C=0.001, penalty=l2;, score=0.877 total time=   0.4s\n",
      "[CV 1/3] END ..................C=0.01, penalty=l1;, score=nan total time=   0.1s\n",
      "[CV 2/3] END ..................C=0.01, penalty=l1;, score=nan total time=   0.1s\n",
      "[CV 3/3] END ..................C=0.01, penalty=l1;, score=nan total time=   0.1s\n",
      "[CV 1/3] END ................C=0.01, penalty=l2;, score=0.885 total time=   0.4s\n",
      "[CV 2/3] END ................C=0.01, penalty=l2;, score=0.890 total time=   0.4s\n",
      "[CV 3/3] END ................C=0.01, penalty=l2;, score=0.892 total time=   0.5s\n",
      "[CV 1/3] END ...................C=0.1, penalty=l1;, score=nan total time=   0.1s\n",
      "[CV 2/3] END ...................C=0.1, penalty=l1;, score=nan total time=   0.1s\n",
      "[CV 3/3] END ...................C=0.1, penalty=l1;, score=nan total time=   0.1s\n",
      "[CV 1/3] END .................C=0.1, penalty=l2;, score=0.960 total time=   0.5s\n",
      "[CV 2/3] END .................C=0.1, penalty=l2;, score=0.959 total time=   0.5s\n",
      "[CV 3/3] END .................C=0.1, penalty=l2;, score=0.950 total time=   0.5s\n",
      "[CV 1/3] END ...................C=1.0, penalty=l1;, score=nan total time=   0.1s\n",
      "[CV 2/3] END ...................C=1.0, penalty=l1;, score=nan total time=   0.1s\n",
      "[CV 3/3] END ...................C=1.0, penalty=l1;, score=nan total time=   0.1s\n",
      "[CV 1/3] END .................C=1.0, penalty=l2;, score=0.972 total time=   0.7s\n",
      "[CV 2/3] END .................C=1.0, penalty=l2;, score=0.980 total time=   0.7s\n",
      "[CV 3/3] END .................C=1.0, penalty=l2;, score=0.972 total time=   0.8s\n",
      "[CV 1/3] END ..................C=10.0, penalty=l1;, score=nan total time=   0.1s\n",
      "[CV 2/3] END ..................C=10.0, penalty=l1;, score=nan total time=   0.1s\n",
      "[CV 3/3] END ..................C=10.0, penalty=l1;, score=nan total time=   0.1s\n",
      "[CV 1/3] END ................C=10.0, penalty=l2;, score=0.977 total time=   0.9s\n",
      "[CV 2/3] END ................C=10.0, penalty=l2;, score=0.982 total time=   1.0s\n",
      "[CV 3/3] END ................C=10.0, penalty=l2;, score=0.974 total time=   1.0s\n",
      "[CV 1/3] END .................C=100.0, penalty=l1;, score=nan total time=   0.1s\n",
      "[CV 2/3] END .................C=100.0, penalty=l1;, score=nan total time=   0.1s\n",
      "[CV 3/3] END .................C=100.0, penalty=l1;, score=nan total time=   0.1s\n",
      "[CV 1/3] END ...............C=100.0, penalty=l2;, score=0.978 total time=   1.1s\n",
      "[CV 2/3] END ...............C=100.0, penalty=l2;, score=0.982 total time=   1.2s\n",
      "[CV 3/3] END ...............C=100.0, penalty=l2;, score=0.974 total time=   1.2s\n",
      "[CV 1/3] END ................C=1000.0, penalty=l1;, score=nan total time=   0.1s\n",
      "[CV 2/3] END ................C=1000.0, penalty=l1;, score=nan total time=   0.1s\n",
      "[CV 3/3] END ................C=1000.0, penalty=l1;, score=nan total time=   0.1s\n",
      "[CV 1/3] END ..............C=1000.0, penalty=l2;, score=0.978 total time=   1.0s\n",
      "[CV 2/3] END ..............C=1000.0, penalty=l2;, score=0.981 total time=   1.2s\n",
      "[CV 3/3] END ..............C=1000.0, penalty=l2;, score=0.974 total time=   1.2s\n"
     ]
    },
    {
     "name": "stderr",
     "output_type": "stream",
     "text": [
      "/opt/conda/lib/python3.10/site-packages/sklearn/model_selection/_validation.py:378: FitFailedWarning: \n",
      "21 fits failed out of a total of 42.\n",
      "The score on these train-test partitions for these parameters will be set to nan.\n",
      "If these failures are not expected, you can try to debug them by setting error_score='raise'.\n",
      "\n",
      "Below are more details about the failures:\n",
      "--------------------------------------------------------------------------------\n",
      "21 fits failed with the following error:\n",
      "Traceback (most recent call last):\n",
      "  File \"/opt/conda/lib/python3.10/site-packages/sklearn/model_selection/_validation.py\", line 686, in _fit_and_score\n",
      "    estimator.fit(X_train, y_train, **fit_params)\n",
      "  File \"/opt/conda/lib/python3.10/site-packages/sklearn/linear_model/_logistic.py\", line 1162, in fit\n",
      "    solver = _check_solver(self.solver, self.penalty, self.dual)\n",
      "  File \"/opt/conda/lib/python3.10/site-packages/sklearn/linear_model/_logistic.py\", line 54, in _check_solver\n",
      "    raise ValueError(\n",
      "ValueError: Solver lbfgs supports only 'l2' or 'none' penalties, got l1 penalty.\n",
      "\n",
      "  warnings.warn(some_fits_failed_message, FitFailedWarning)\n",
      "/opt/conda/lib/python3.10/site-packages/sklearn/model_selection/_search.py:952: UserWarning: One or more of the test scores are non-finite: [       nan 0.87714641        nan 0.88875552        nan 0.95622639\n",
      "        nan 0.97436582        nan 0.97750924        nan 0.97775096\n",
      "        nan 0.97750907]\n",
      "  warnings.warn(\n"
     ]
    },
    {
     "data": {
      "text/html": [
       "<style>#sk-container-id-1 {color: black;background-color: white;}#sk-container-id-1 pre{padding: 0;}#sk-container-id-1 div.sk-toggleable {background-color: white;}#sk-container-id-1 label.sk-toggleable__label {cursor: pointer;display: block;width: 100%;margin-bottom: 0;padding: 0.3em;box-sizing: border-box;text-align: center;}#sk-container-id-1 label.sk-toggleable__label-arrow:before {content: \"▸\";float: left;margin-right: 0.25em;color: #696969;}#sk-container-id-1 label.sk-toggleable__label-arrow:hover:before {color: black;}#sk-container-id-1 div.sk-estimator:hover label.sk-toggleable__label-arrow:before {color: black;}#sk-container-id-1 div.sk-toggleable__content {max-height: 0;max-width: 0;overflow: hidden;text-align: left;background-color: #f0f8ff;}#sk-container-id-1 div.sk-toggleable__content pre {margin: 0.2em;color: black;border-radius: 0.25em;background-color: #f0f8ff;}#sk-container-id-1 input.sk-toggleable__control:checked~div.sk-toggleable__content {max-height: 200px;max-width: 100%;overflow: auto;}#sk-container-id-1 input.sk-toggleable__control:checked~label.sk-toggleable__label-arrow:before {content: \"▾\";}#sk-container-id-1 div.sk-estimator input.sk-toggleable__control:checked~label.sk-toggleable__label {background-color: #d4ebff;}#sk-container-id-1 div.sk-label input.sk-toggleable__control:checked~label.sk-toggleable__label {background-color: #d4ebff;}#sk-container-id-1 input.sk-hidden--visually {border: 0;clip: rect(1px 1px 1px 1px);clip: rect(1px, 1px, 1px, 1px);height: 1px;margin: -1px;overflow: hidden;padding: 0;position: absolute;width: 1px;}#sk-container-id-1 div.sk-estimator {font-family: monospace;background-color: #f0f8ff;border: 1px dotted black;border-radius: 0.25em;box-sizing: border-box;margin-bottom: 0.5em;}#sk-container-id-1 div.sk-estimator:hover {background-color: #d4ebff;}#sk-container-id-1 div.sk-parallel-item::after {content: \"\";width: 100%;border-bottom: 1px solid gray;flex-grow: 1;}#sk-container-id-1 div.sk-label:hover label.sk-toggleable__label {background-color: #d4ebff;}#sk-container-id-1 div.sk-serial::before {content: \"\";position: absolute;border-left: 1px solid gray;box-sizing: border-box;top: 0;bottom: 0;left: 50%;z-index: 0;}#sk-container-id-1 div.sk-serial {display: flex;flex-direction: column;align-items: center;background-color: white;padding-right: 0.2em;padding-left: 0.2em;position: relative;}#sk-container-id-1 div.sk-item {position: relative;z-index: 1;}#sk-container-id-1 div.sk-parallel {display: flex;align-items: stretch;justify-content: center;background-color: white;position: relative;}#sk-container-id-1 div.sk-item::before, #sk-container-id-1 div.sk-parallel-item::before {content: \"\";position: absolute;border-left: 1px solid gray;box-sizing: border-box;top: 0;bottom: 0;left: 50%;z-index: -1;}#sk-container-id-1 div.sk-parallel-item {display: flex;flex-direction: column;z-index: 1;position: relative;background-color: white;}#sk-container-id-1 div.sk-parallel-item:first-child::after {align-self: flex-end;width: 50%;}#sk-container-id-1 div.sk-parallel-item:last-child::after {align-self: flex-start;width: 50%;}#sk-container-id-1 div.sk-parallel-item:only-child::after {width: 0;}#sk-container-id-1 div.sk-dashed-wrapped {border: 1px dashed gray;margin: 0 0.4em 0.5em 0.4em;box-sizing: border-box;padding-bottom: 0.4em;background-color: white;}#sk-container-id-1 div.sk-label label {font-family: monospace;font-weight: bold;display: inline-block;line-height: 1.2em;}#sk-container-id-1 div.sk-label-container {text-align: center;}#sk-container-id-1 div.sk-container {/* jupyter's `normalize.less` sets `[hidden] { display: none; }` but bootstrap.min.css set `[hidden] { display: none !important; }` so we also need the `!important` here to be able to override the default hidden behavior on the sphinx rendered scikit-learn.org. See: https://github.com/scikit-learn/scikit-learn/issues/21755 */display: inline-block !important;position: relative;}#sk-container-id-1 div.sk-text-repr-fallback {display: none;}</style><div id=\"sk-container-id-1\" class=\"sk-top-container\"><div class=\"sk-text-repr-fallback\"><pre>GridSearchCV(cv=3, estimator=LogisticRegression(max_iter=1000, random_state=42),\n",
       "             param_grid={&#x27;C&#x27;: array([1.e-03, 1.e-02, 1.e-01, 1.e+00, 1.e+01, 1.e+02, 1.e+03]),\n",
       "                         &#x27;penalty&#x27;: [&#x27;l1&#x27;, &#x27;l2&#x27;]},\n",
       "             verbose=3)</pre><b>In a Jupyter environment, please rerun this cell to show the HTML representation or trust the notebook. <br />On GitHub, the HTML representation is unable to render, please try loading this page with nbviewer.org.</b></div><div class=\"sk-container\" hidden><div class=\"sk-item sk-dashed-wrapped\"><div class=\"sk-label-container\"><div class=\"sk-label sk-toggleable\"><input class=\"sk-toggleable__control sk-hidden--visually\" id=\"sk-estimator-id-1\" type=\"checkbox\" ><label for=\"sk-estimator-id-1\" class=\"sk-toggleable__label sk-toggleable__label-arrow\">GridSearchCV</label><div class=\"sk-toggleable__content\"><pre>GridSearchCV(cv=3, estimator=LogisticRegression(max_iter=1000, random_state=42),\n",
       "             param_grid={&#x27;C&#x27;: array([1.e-03, 1.e-02, 1.e-01, 1.e+00, 1.e+01, 1.e+02, 1.e+03]),\n",
       "                         &#x27;penalty&#x27;: [&#x27;l1&#x27;, &#x27;l2&#x27;]},\n",
       "             verbose=3)</pre></div></div></div><div class=\"sk-parallel\"><div class=\"sk-parallel-item\"><div class=\"sk-item\"><div class=\"sk-label-container\"><div class=\"sk-label sk-toggleable\"><input class=\"sk-toggleable__control sk-hidden--visually\" id=\"sk-estimator-id-2\" type=\"checkbox\" ><label for=\"sk-estimator-id-2\" class=\"sk-toggleable__label sk-toggleable__label-arrow\">estimator: LogisticRegression</label><div class=\"sk-toggleable__content\"><pre>LogisticRegression(max_iter=1000, random_state=42)</pre></div></div></div><div class=\"sk-serial\"><div class=\"sk-item\"><div class=\"sk-estimator sk-toggleable\"><input class=\"sk-toggleable__control sk-hidden--visually\" id=\"sk-estimator-id-3\" type=\"checkbox\" ><label for=\"sk-estimator-id-3\" class=\"sk-toggleable__label sk-toggleable__label-arrow\">LogisticRegression</label><div class=\"sk-toggleable__content\"><pre>LogisticRegression(max_iter=1000, random_state=42)</pre></div></div></div></div></div></div></div></div></div></div>"
      ],
      "text/plain": [
       "GridSearchCV(cv=3, estimator=LogisticRegression(max_iter=1000, random_state=42),\n",
       "             param_grid={'C': array([1.e-03, 1.e-02, 1.e-01, 1.e+00, 1.e+01, 1.e+02, 1.e+03]),\n",
       "                         'penalty': ['l1', 'l2']},\n",
       "             verbose=3)"
      ]
     },
     "execution_count": 28,
     "metadata": {},
     "output_type": "execute_result"
    }
   ],
   "source": [
    "from sklearn.linear_model import LogisticRegression\n",
    "from sklearn.model_selection import GridSearchCV\n",
    "from sklearn.metrics import confusion_matrix ,precision_score , recall_score\n",
    "params={\"C\":np.logspace(-3,3,7), \"penalty\":[\"l1\",\"l2\"]}\n",
    "log_clf = LogisticRegression(solver=\"lbfgs\", max_iter=1000, random_state=42)\n",
    "gs=GridSearchCV(log_clf,params,cv=3,verbose=3)\n",
    "gs.fit(X_train,y_train)"
   ]
  },
  {
   "cell_type": "code",
   "execution_count": 29,
   "id": "24aa492a",
   "metadata": {
    "execution": {
     "iopub.execute_input": "2023-11-30T15:25:06.017386Z",
     "iopub.status.busy": "2023-11-30T15:25:06.016633Z",
     "iopub.status.idle": "2023-11-30T15:25:06.029692Z",
     "shell.execute_reply": "2023-11-30T15:25:06.028843Z"
    },
    "papermill": {
     "duration": 0.057875,
     "end_time": "2023-11-30T15:25:06.032531",
     "exception": false,
     "start_time": "2023-11-30T15:25:05.974656",
     "status": "completed"
    },
    "tags": []
   },
   "outputs": [
    {
     "data": {
      "text/plain": [
       "0.977750962761977"
      ]
     },
     "execution_count": 29,
     "metadata": {},
     "output_type": "execute_result"
    }
   ],
   "source": [
    "gs.best_score_"
   ]
  },
  {
   "cell_type": "code",
   "execution_count": 30,
   "id": "25297f95",
   "metadata": {
    "execution": {
     "iopub.execute_input": "2023-11-30T15:25:06.073097Z",
     "iopub.status.busy": "2023-11-30T15:25:06.072621Z",
     "iopub.status.idle": "2023-11-30T15:25:06.079941Z",
     "shell.execute_reply": "2023-11-30T15:25:06.078751Z"
    },
    "papermill": {
     "duration": 0.030669,
     "end_time": "2023-11-30T15:25:06.082548",
     "exception": false,
     "start_time": "2023-11-30T15:25:06.051879",
     "status": "completed"
    },
    "tags": []
   },
   "outputs": [
    {
     "data": {
      "text/plain": [
       "{'C': 100.0, 'penalty': 'l2'}"
      ]
     },
     "execution_count": 30,
     "metadata": {},
     "output_type": "execute_result"
    }
   ],
   "source": [
    "gs.best_params_"
   ]
  },
  {
   "cell_type": "code",
   "execution_count": 31,
   "id": "b6c63635",
   "metadata": {
    "execution": {
     "iopub.execute_input": "2023-11-30T15:25:06.124637Z",
     "iopub.status.busy": "2023-11-30T15:25:06.123585Z",
     "iopub.status.idle": "2023-11-30T15:25:06.153059Z",
     "shell.execute_reply": "2023-11-30T15:25:06.151479Z"
    },
    "papermill": {
     "duration": 0.055088,
     "end_time": "2023-11-30T15:25:06.157391",
     "exception": false,
     "start_time": "2023-11-30T15:25:06.102303",
     "status": "completed"
    },
    "tags": []
   },
   "outputs": [],
   "source": [
    "y_pred=gs.predict(X_test)\n"
   ]
  },
  {
   "cell_type": "markdown",
   "id": "70e9e546",
   "metadata": {
    "papermill": {
     "duration": 0.042188,
     "end_time": "2023-11-30T15:25:06.240302",
     "exception": false,
     "start_time": "2023-11-30T15:25:06.198114",
     "status": "completed"
    },
    "tags": []
   },
   "source": [
    "## Evaluation"
   ]
  },
  {
   "cell_type": "code",
   "execution_count": 32,
   "id": "1b3a3bd6",
   "metadata": {
    "execution": {
     "iopub.execute_input": "2023-11-30T15:25:06.295896Z",
     "iopub.status.busy": "2023-11-30T15:25:06.295511Z",
     "iopub.status.idle": "2023-11-30T15:25:06.308067Z",
     "shell.execute_reply": "2023-11-30T15:25:06.307020Z"
    },
    "papermill": {
     "duration": 0.035333,
     "end_time": "2023-11-30T15:25:06.310708",
     "exception": false,
     "start_time": "2023-11-30T15:25:06.275375",
     "status": "completed"
    },
    "tags": []
   },
   "outputs": [
    {
     "name": "stdout",
     "output_type": "stream",
     "text": [
      "Precision: 99.22%\n",
      "Recall: 88.28%\n"
     ]
    }
   ],
   "source": [
    "\n",
    "print(\"Precision: {:.2f}%\".format(100 * precision_score(y_test, y_pred)))\n",
    "print(\"Recall: {:.2f}%\".format(100 * recall_score(y_test, y_pred)))"
   ]
  },
  {
   "cell_type": "code",
   "execution_count": 33,
   "id": "faef26d6",
   "metadata": {
    "execution": {
     "iopub.execute_input": "2023-11-30T15:25:06.353093Z",
     "iopub.status.busy": "2023-11-30T15:25:06.352032Z",
     "iopub.status.idle": "2023-11-30T15:25:06.361268Z",
     "shell.execute_reply": "2023-11-30T15:25:06.359926Z"
    },
    "papermill": {
     "duration": 0.033075,
     "end_time": "2023-11-30T15:25:06.363794",
     "exception": false,
     "start_time": "2023-11-30T15:25:06.330719",
     "status": "completed"
    },
    "tags": []
   },
   "outputs": [
    {
     "data": {
      "text/plain": [
       "array([[888,   1],\n",
       "       [ 17, 128]])"
      ]
     },
     "execution_count": 33,
     "metadata": {},
     "output_type": "execute_result"
    }
   ],
   "source": [
    "cm=confusion_matrix(y_test,y_pred)\n",
    "cm"
   ]
  },
  {
   "cell_type": "markdown",
   "id": "580303fe",
   "metadata": {
    "papermill": {
     "duration": 0.018539,
     "end_time": "2023-11-30T15:25:06.401175",
     "exception": false,
     "start_time": "2023-11-30T15:25:06.382636",
     "status": "completed"
    },
    "tags": []
   },
   "source": [
    "## Confusion matrix "
   ]
  },
  {
   "cell_type": "code",
   "execution_count": 34,
   "id": "7277a297",
   "metadata": {
    "execution": {
     "iopub.execute_input": "2023-11-30T15:25:06.441571Z",
     "iopub.status.busy": "2023-11-30T15:25:06.440854Z",
     "iopub.status.idle": "2023-11-30T15:25:06.744407Z",
     "shell.execute_reply": "2023-11-30T15:25:06.743195Z"
    },
    "papermill": {
     "duration": 0.326905,
     "end_time": "2023-11-30T15:25:06.747384",
     "exception": false,
     "start_time": "2023-11-30T15:25:06.420479",
     "status": "completed"
    },
    "tags": []
   },
   "outputs": [
    {
     "data": {
      "image/png": "[encoded data removed]",
      "text/plain": [
       "<Figure size 640x480 with 2 Axes>"
      ]
     },
     "metadata": {},
     "output_type": "display_data"
    }
   ],
   "source": [
    "\n",
    "sns.heatmap(cm,annot=True)\n",
    "plt.show()"
   ]
  },
  {
   "cell_type": "code",
   "execution_count": null,
   "id": "78ca1e1e",
   "metadata": {
    "papermill": {
     "duration": 0.01983,
     "end_time": "2023-11-30T15:25:06.787530",
     "exception": false,
     "start_time": "2023-11-30T15:25:06.767700",
     "status": "completed"
    },
    "tags": []
   },
   "outputs": [],
   "source": []
  }
 ],
 "metadata": {
  "kaggle": {
   "accelerator": "none",
   "dataSources": [
    {
     "datasetId": 483,
     "sourceId": 982,
     "sourceType": "datasetVersion"
    }
   ],
   "dockerImageVersionId": 30587,
   "isGpuEnabled": false,
   "isInternetEnabled": true,
   "language": "python",
   "sourceType": "notebook"
  },
  "kernelspec": {
   "display_name": "Python 3",
   "language": "python",
   "name": "python3"
  },
  "language_info": {
   "codemirror_mode": {
    "name": "ipython",
    "version": 3
   },
   "file_extension": ".py",
   "mimetype": "text/x-python",
   "name": "python",
   "nbconvert_exporter": "python",
   "pygments_lexer": "ipython3",
   "version": "3.10.12"
  },
  "papermill": {
   "default_parameters": {},
   "duration": 43.715135,
   "end_time": "2023-11-30T15:25:07.529846",
   "environment_variables": {},
   "exception": null,
   "input_path": "__notebook__.ipynb",
   "output_path": "__notebook__.ipynb",
   "parameters": {},
   "start_time": "2023-11-30T15:24:23.814711",
   "version": "2.4.0"
  }
 },
 "nbformat": 4,
 "nbformat_minor": 5
}
